{
  "nbformat": 4,
  "nbformat_minor": 0,
  "metadata": {
    "colab": {
      "provenance": [],
      "include_colab_link": true
    },
    "kernelspec": {
      "name": "python3",
      "display_name": "Python 3"
    },
    "language_info": {
      "name": "python"
    }
  },
  "cells": [
    {
      "cell_type": "markdown",
      "metadata": {
        "id": "view-in-github",
        "colab_type": "text"
      },
      "source": [
        "<a href=\"https://colab.research.google.com/github/CreshUp/Programming-/blob/main/%D0%9A%D0%BE%D0%BF%D0%B8%D1%8F_%D0%B1%D0%BB%D0%BE%D0%BA%D0%BD%D0%BE%D1%82%D0%B0_%22%D0%9F%D1%80%D0%B0%D0%BA%D1%82%D0%B8%D0%BA%D0%B0_1_1_0_ipynb%22.ipynb\" target=\"_parent\"><img src=\"https://colab.research.google.com/assets/colab-badge.svg\" alt=\"Open In Colab\"/></a>"
      ]
    },
    {
      "cell_type": "markdown",
      "source": [
        "**ФИО:**"
      ],
      "metadata": {
        "id": "GEsFKJm-ABFp"
      }
    },
    {
      "cell_type": "code",
      "execution_count": null,
      "metadata": {
        "id": "wZMLYG_G_-19"
      },
      "outputs": [],
      "source": [
        "Плескачёв Дмитрий Александрович"
      ]
    },
    {
      "cell_type": "markdown",
      "source": [
        "# Задание 1"
      ],
      "metadata": {
        "id": "H4DrYnJjADuZ"
      }
    },
    {
      "cell_type": "markdown",
      "source": [
        "**Описание:** Создайте иерархию классов для разных типов сотрудников в компании. Реализуйте родительский класс Employee и дочерние классы Manager и Developer. Каждый класс должен иметь метод для расчета зарплаты на основе различных критериев класса.\n",
        "\n",
        "\n",
        "Отрабатываемый принцип: Наследование\n",
        "\n"
      ],
      "metadata": {
        "id": "C17FWep-AF4a"
      }
    },
    {
      "cell_type": "code",
      "source": [
        "class Employee:\n",
        "    def __init__(self,vacation_days):\n",
        "      self.vacation_days=vacation_days\n",
        "\n",
        "    def consume_vacation(self,amount):\n",
        "      self.vacation_days-=amount\n",
        "\n",
        "    def vacation_left(self):\n",
        "      print('Остаток отпускных дней:',self.vacation_days)\n",
        "\n",
        "\n",
        "class Manager(Employee):\n",
        "    def __init__(self):\n",
        "      self.coolness=3\n",
        "\n",
        "    def salary(self):\n",
        "      return 100000*self.coolness\n",
        "\n",
        "\n",
        "class Developer(Employee):\n",
        "    def __init__(self):\n",
        "      self.coolness=6\n",
        "\n",
        "    def salary(self):\n",
        "      return 100000*self.coolness\n",
        "\n",
        "\n",
        "person1=Manager()\n",
        "person2=Developer()\n",
        "\n",
        "print(person1.salary())\n",
        "print(person2.salary())"
      ],
      "metadata": {
        "id": "aexGXzqCAFH7",
        "colab": {
          "base_uri": "https://localhost:8080/"
        },
        "outputId": "d512c171-da00-4129-80d8-db79b91e962e"
      },
      "execution_count": null,
      "outputs": [
        {
          "output_type": "stream",
          "name": "stdout",
          "text": [
            "300000\n",
            "600000\n"
          ]
        }
      ]
    },
    {
      "cell_type": "markdown",
      "source": [
        "# Задание 2"
      ],
      "metadata": {
        "id": "ERAi0TG5BI6v"
      }
    },
    {
      "cell_type": "markdown",
      "source": [
        "**Описание:** Создайте иерархию классов для различных типов транспортных средств (Необходим один родительский класс и 3 дочерних). Реализуйте метод, который позволяет каждому транспортному средству возвращать собственное описание (Метод в каждом классе должен иметь одинаковое название). Продемонстрируйте вызов данного метода для каждого транспортного средства.\n",
        "\n",
        "\n",
        "Отрабатываемый принцип: Полиморфизм"
      ],
      "metadata": {
        "id": "sJ3k7ZcgBK87"
      }
    },
    {
      "cell_type": "code",
      "source": [
        "class Transport:\n",
        "    def is_broken(self):\n",
        "      print(self.broken)\n",
        "\n",
        "    def crash(self):\n",
        "      pass\n",
        "\n",
        "    def is_broken(self):\n",
        "      pass\n",
        "\n",
        "class LightCar(Transport):\n",
        "    def __init__(self):\n",
        "      self.weels=4\n",
        "      self.doors=4\n",
        "      self.broken=False\n",
        "      self.speed=80\n",
        "      self.cool=False\n",
        "      self.color='White'\n",
        "\n",
        "    def crash(self):\n",
        "      self.broken=True\n",
        "      print('LightCar is crushed')\n",
        "\n",
        "    def is_broken(self):\n",
        "      return self.broken\n",
        "\n",
        "    def is_cool(self):\n",
        "      return self.coolness\n",
        "\n",
        "\n",
        "class Truck(Transport):\n",
        "    def __init__(self):\n",
        "      self.weels=10\n",
        "      self.doors=2\n",
        "      self.broken=False\n",
        "      self.speed=60\n",
        "      self.cool=True\n",
        "      self.color='Red'\n",
        "\n",
        "    def crash(self):\n",
        "      self.broken=True\n",
        "      print('Truck is crushed')\n",
        "\n",
        "    def is_broken(self):\n",
        "      return self.broken\n",
        "\n",
        "    def is_cool(self):\n",
        "      return self.coolness\n",
        "\n",
        "class Bicucle(Transport):\n",
        "    def __init__(self):\n",
        "      self.weels=2\n",
        "      self.doors=0\n",
        "      self.broken=False\n",
        "      self.speed=20\n",
        "      self.cool=False\n",
        "      self.color='Blue'\n",
        "\n",
        "    def crash(self):\n",
        "      self.broken=True\n",
        "      print('Bicucle is crushed')\n",
        "\n",
        "    def is_broken(self):\n",
        "      return self.broken\n",
        "\n",
        "    def is_cool(self):\n",
        "      return self.coolness\n",
        "\n",
        "\n",
        "tr=Truck()\n",
        "lc=LightCar()\n",
        "bi=Bicucle()\n",
        "\n",
        "tr.crash()\n",
        "lc.crash()\n",
        "bi.crash()"
      ],
      "metadata": {
        "id": "WOFOZQmDBKf4",
        "colab": {
          "base_uri": "https://localhost:8080/"
        },
        "outputId": "7906f190-c12d-44f8-aba1-bfae93d3edca"
      },
      "execution_count": null,
      "outputs": [
        {
          "output_type": "stream",
          "name": "stdout",
          "text": [
            "Truck is crushed\n",
            "LightCar is crushed\n",
            "Bicucle is crushed\n"
          ]
        }
      ]
    },
    {
      "cell_type": "markdown",
      "source": [
        "# Задание 3"
      ],
      "metadata": {
        "id": "7E_SJXMJBvD4"
      }
    },
    {
      "cell_type": "markdown",
      "source": [
        "Онлайн-магазин:\n",
        "- Создайте модель для онлайн-магазина с классами Product, Order, Customer, и ShoppingCart.\n",
        "- Product включает информацию о цене, наличии на складе и категории товара.\n",
        "Order обрабатывает процесс покупки, включая расчет цены с учетом скидок и налогов.\n",
        "- Customer управляет информацией о пользователе и его истории заказов.\n",
        "- ShoppingCart позволяет добавлять, удалять и обновлять количество товаров перед оформлением заказа.\n"
      ],
      "metadata": {
        "id": "dd1mwKj_BxHa"
      }
    },
    {
      "cell_type": "code",
      "source": [
        "class Product:\n",
        "    def __init__(self, name, price, category):\n",
        "      self.name=name\n",
        "      self.price=price\n",
        "      self.category=category\n",
        "      self.amount=10\n",
        "    def is_available(self):\n",
        "      if self.amount:\n",
        "        return True\n",
        "      else:\n",
        "        return False\n",
        "\n",
        "    def delete(self,how_much):\n",
        "      self.amount-=how_much\n",
        "\n",
        "    def add(self,how_much):\n",
        "      self.amount+=how_much\n",
        "\n",
        "\n",
        "class Order:\n",
        "    def __init__(self,id,customer_id):\n",
        "      self.id=id\n",
        "      self.customer_id=customer_id\n",
        "      self.products={}\n",
        "\n",
        "    def price(self):\n",
        "      price=0\n",
        "      for v in self.products.values():\n",
        "        price+=v[1]\n",
        "      return price*1.25\n",
        "\n",
        "    def add_to_cart(self,what,price):\n",
        "      try:\n",
        "        self.products[what][1]+=price\n",
        "        self.products[what][0]+=1\n",
        "      except Exception:\n",
        "        self.products[what]=[0,0]\n",
        "        self.products[what][1]+=price\n",
        "        self.products[what][0]+=1\n",
        "\n",
        "    def del_from_cart(self,what,price):\n",
        "      self.products[what][1]-=price\n",
        "      self.products[what][0]-=1\n",
        "\n",
        "    def check(self):\n",
        "      for k,v in self.products.items():\n",
        "        if v[0]==0:\n",
        "          continue\n",
        "        print(f'item:{k} / amount:{v[0]} / price:{v[1]}')\n",
        "\n",
        "\n",
        "class Customer:\n",
        "    def __init__(self,customer_id):\n",
        "      self.id=customer_id\n",
        "      self.history={}\n",
        "\n",
        "    def purchase(self, order):\n",
        "      self.history[order.id]=order.price()\n",
        "      print('You bought something with total price with НДС of', order.price())\n",
        "\n",
        "# Немного не понял что должна была делать customer_cart, если я всё написал в order\n",
        "\n",
        "products=[Product('Pomidor',100,'овощ'),\n",
        "          Product('Chocolate',200,'сладкое')]\n",
        "ord_id=0\n",
        "customers=[]\n",
        "while True:\n",
        "  print('Добро пожаловать')\n",
        "  name=input('Input Your name:')\n",
        "  print('0 is No, 1 is Yes')\n",
        "  t=False\n",
        "  for customer in customers:\n",
        "    if name == customer.name:\n",
        "      t=True\n",
        "      break\n",
        "  if not t:\n",
        "    customers.append(Customer(name))\n",
        "  response=int(input('You want to buy some things: '))\n",
        "  if response:\n",
        "    order=Order(ord_id,name)\n",
        "    ord_id+=1\n",
        "    while True:\n",
        "      response=int(input('You want to add something '))\n",
        "      if response:\n",
        "        for product in products:\n",
        "          if product.is_available():\n",
        "            response=int(input(f'We have {product.amount} of {product.name} with price {product.price} / Are u want to buy 1 of it '))\n",
        "            if response:\n",
        "              order.add_to_cart(product.name,product.price)\n",
        "              product.delete(1)\n",
        "          else:\n",
        "            print(f'We dont have {product.name}')\n",
        "          print('Current price with НДС is',order.price())\n",
        "      else:\n",
        "        break\n",
        "      response=int(input('You want to delete something '))\n",
        "      if response:\n",
        "        for k,v in order.products.items():\n",
        "          response=int(input(f'You have {v[0]} of {k} with price {v[1]} / Are u want to delete 1 of it '))\n",
        "          if response:\n",
        "            order.del_from_cart(k,v[1]/v[0])\n",
        "            product.add(1)\n",
        "\n",
        "  order.check()\n",
        "  for customer in customers:\n",
        "    if name==customer.id:\n",
        "      customer.purchase(order)\n",
        "      del order\n",
        "      break\n",
        "\n",
        "\n",
        "\n",
        "\n"
      ],
      "metadata": {
        "id": "wkCcv_K-Bwdv",
        "collapsed": true,
        "colab": {
          "base_uri": "https://localhost:8080/",
          "height": 645
        },
        "outputId": "0699118b-ea60-4c02-cec1-1bc132dd3466"
      },
      "execution_count": 15,
      "outputs": [
        {
          "output_type": "stream",
          "name": "stdout",
          "text": [
            "Добро пожаловать\n",
            "Input Your name:123\n",
            "0 is No, 1 is Yes\n",
            "You want to buy some things: 1\n",
            "You want to add something 1\n",
            "We have 10 of Pomidor with price 100 / Are u want to buy 1 of it 1\n",
            "Current price with НДС is 125.0\n",
            "We have 10 of Chocolate with price 200 / Are u want to buy 1 of it 1\n",
            "Current price with НДС is 375.0\n",
            "You want to delete something 1\n",
            "You have 1 of Pomidor with price 100 / Are u want to delete 1 of it 1\n",
            "You have 1 of Chocolate with price 200 / Are u want to delete 1 of it 0\n",
            "You want to add something 0\n",
            "item:Chocolate / amount:1 / price:200\n",
            "You bought something with total price of 250.0\n",
            "Добро пожаловать\n"
          ]
        },
        {
          "output_type": "error",
          "ename": "KeyboardInterrupt",
          "evalue": "Interrupted by user",
          "traceback": [
            "\u001b[0;31m---------------------------------------------------------------------------\u001b[0m",
            "\u001b[0;31mKeyboardInterrupt\u001b[0m                         Traceback (most recent call last)",
            "\u001b[0;32m<ipython-input-15-768d42b30717>\u001b[0m in \u001b[0;36m<cell line: 67>\u001b[0;34m()\u001b[0m\n\u001b[1;32m     67\u001b[0m \u001b[0;32mwhile\u001b[0m \u001b[0;32mTrue\u001b[0m\u001b[0;34m:\u001b[0m\u001b[0;34m\u001b[0m\u001b[0;34m\u001b[0m\u001b[0m\n\u001b[1;32m     68\u001b[0m   \u001b[0mprint\u001b[0m\u001b[0;34m(\u001b[0m\u001b[0;34m'Добро пожаловать'\u001b[0m\u001b[0;34m)\u001b[0m\u001b[0;34m\u001b[0m\u001b[0;34m\u001b[0m\u001b[0m\n\u001b[0;32m---> 69\u001b[0;31m   \u001b[0mname\u001b[0m\u001b[0;34m=\u001b[0m\u001b[0minput\u001b[0m\u001b[0;34m(\u001b[0m\u001b[0;34m'Input Your name:'\u001b[0m\u001b[0;34m)\u001b[0m\u001b[0;34m\u001b[0m\u001b[0;34m\u001b[0m\u001b[0m\n\u001b[0m\u001b[1;32m     70\u001b[0m   \u001b[0mprint\u001b[0m\u001b[0;34m(\u001b[0m\u001b[0;34m'0 is No, 1 is Yes'\u001b[0m\u001b[0;34m)\u001b[0m\u001b[0;34m\u001b[0m\u001b[0;34m\u001b[0m\u001b[0m\n\u001b[1;32m     71\u001b[0m   \u001b[0mt\u001b[0m\u001b[0;34m=\u001b[0m\u001b[0;32mFalse\u001b[0m\u001b[0;34m\u001b[0m\u001b[0;34m\u001b[0m\u001b[0m\n",
            "\u001b[0;32m/usr/local/lib/python3.10/dist-packages/ipykernel/kernelbase.py\u001b[0m in \u001b[0;36mraw_input\u001b[0;34m(self, prompt)\u001b[0m\n\u001b[1;32m    849\u001b[0m                 \u001b[0;34m\"raw_input was called, but this frontend does not support input requests.\"\u001b[0m\u001b[0;34m\u001b[0m\u001b[0;34m\u001b[0m\u001b[0m\n\u001b[1;32m    850\u001b[0m             )\n\u001b[0;32m--> 851\u001b[0;31m         return self._input_request(str(prompt),\n\u001b[0m\u001b[1;32m    852\u001b[0m             \u001b[0mself\u001b[0m\u001b[0;34m.\u001b[0m\u001b[0m_parent_ident\u001b[0m\u001b[0;34m,\u001b[0m\u001b[0;34m\u001b[0m\u001b[0;34m\u001b[0m\u001b[0m\n\u001b[1;32m    853\u001b[0m             \u001b[0mself\u001b[0m\u001b[0;34m.\u001b[0m\u001b[0m_parent_header\u001b[0m\u001b[0;34m,\u001b[0m\u001b[0;34m\u001b[0m\u001b[0;34m\u001b[0m\u001b[0m\n",
            "\u001b[0;32m/usr/local/lib/python3.10/dist-packages/ipykernel/kernelbase.py\u001b[0m in \u001b[0;36m_input_request\u001b[0;34m(self, prompt, ident, parent, password)\u001b[0m\n\u001b[1;32m    893\u001b[0m             \u001b[0;32mexcept\u001b[0m \u001b[0mKeyboardInterrupt\u001b[0m\u001b[0;34m:\u001b[0m\u001b[0;34m\u001b[0m\u001b[0;34m\u001b[0m\u001b[0m\n\u001b[1;32m    894\u001b[0m                 \u001b[0;31m# re-raise KeyboardInterrupt, to truncate traceback\u001b[0m\u001b[0;34m\u001b[0m\u001b[0;34m\u001b[0m\u001b[0m\n\u001b[0;32m--> 895\u001b[0;31m                 \u001b[0;32mraise\u001b[0m \u001b[0mKeyboardInterrupt\u001b[0m\u001b[0;34m(\u001b[0m\u001b[0;34m\"Interrupted by user\"\u001b[0m\u001b[0;34m)\u001b[0m \u001b[0;32mfrom\u001b[0m \u001b[0;32mNone\u001b[0m\u001b[0;34m\u001b[0m\u001b[0;34m\u001b[0m\u001b[0m\n\u001b[0m\u001b[1;32m    896\u001b[0m             \u001b[0;32mexcept\u001b[0m \u001b[0mException\u001b[0m \u001b[0;32mas\u001b[0m \u001b[0me\u001b[0m\u001b[0;34m:\u001b[0m\u001b[0;34m\u001b[0m\u001b[0;34m\u001b[0m\u001b[0m\n\u001b[1;32m    897\u001b[0m                 \u001b[0mself\u001b[0m\u001b[0;34m.\u001b[0m\u001b[0mlog\u001b[0m\u001b[0;34m.\u001b[0m\u001b[0mwarning\u001b[0m\u001b[0;34m(\u001b[0m\u001b[0;34m\"Invalid Message:\"\u001b[0m\u001b[0;34m,\u001b[0m \u001b[0mexc_info\u001b[0m\u001b[0;34m=\u001b[0m\u001b[0;32mTrue\u001b[0m\u001b[0;34m)\u001b[0m\u001b[0;34m\u001b[0m\u001b[0;34m\u001b[0m\u001b[0m\n",
            "\u001b[0;31mKeyboardInterrupt\u001b[0m: Interrupted by user"
          ]
        }
      ]
    },
    {
      "cell_type": "markdown",
      "source": [
        "# Задание 4"
      ],
      "metadata": {
        "id": "ih7iPlYfB7lL"
      }
    },
    {
      "cell_type": "markdown",
      "source": [
        "Симулятор космического корабля:\n",
        "- Создайте симулятор управления космическим кораблем с классами SpaceShip, CrewMember, и Mission.\n",
        "- SpaceShip имеет атрибуты для управления топливом, состоянием корпуса, и текущей скоростью.\n",
        "- CrewMember контролирует здоровье, навыки, и роли в команде (например, пилот, инженер).\n",
        "- Mission определяет цели, ресурсы, и возможные события (например, аварии, встречи с астероидами)."
      ],
      "metadata": {
        "id": "zLwqVCbpCBvc"
      }
    },
    {
      "cell_type": "code",
      "source": [],
      "metadata": {
        "id": "4NyrOOy8B9ED"
      },
      "execution_count": null,
      "outputs": []
    },
    {
      "cell_type": "markdown",
      "source": [
        "# Дополнительно:"
      ],
      "metadata": {
        "id": "F7mRVsZjCXk0"
      }
    },
    {
      "cell_type": "markdown",
      "source": [
        "**Описание:** создайте консольную версию игры крестики-нолики, используя классы"
      ],
      "metadata": {
        "id": "X4Lkf86UCc1h"
      }
    },
    {
      "cell_type": "code",
      "source": [],
      "metadata": {
        "id": "x9OxpNsyCcUo"
      },
      "execution_count": null,
      "outputs": []
    }
  ]
}
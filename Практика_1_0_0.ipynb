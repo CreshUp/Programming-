{
  "nbformat": 4,
  "nbformat_minor": 0,
  "metadata": {
    "colab": {
      "provenance": [],
      "include_colab_link": true
    },
    "kernelspec": {
      "name": "python3",
      "display_name": "Python 3"
    },
    "language_info": {
      "name": "python"
    }
  },
  "cells": [
    {
      "cell_type": "markdown",
      "metadata": {
        "id": "view-in-github",
        "colab_type": "text"
      },
      "source": [
        "<a href=\"https://colab.research.google.com/github/CreshUp/Programming-/blob/main/%D0%9F%D1%80%D0%B0%D0%BA%D1%82%D0%B8%D0%BA%D0%B0_1_0_0.ipynb\" target=\"_parent\"><img src=\"https://colab.research.google.com/assets/colab-badge.svg\" alt=\"Open In Colab\"/></a>"
      ]
    },
    {
      "cell_type": "markdown",
      "source": [
        "ФИО:Плескачёв Дмитрий Александрович (зачтено 22 11 2024)"
      ],
      "metadata": {
        "id": "fLDS5f_mCnPa"
      }
    },
    {
      "cell_type": "markdown",
      "source": [],
      "metadata": {
        "id": "BzwP3h-MLVJ3"
      }
    },
    {
      "cell_type": "markdown",
      "source": [
        "# Задание 0\n",
        "\n",
        "\n"
      ],
      "metadata": {
        "id": "-CSHUbWzCqeM"
      }
    },
    {
      "cell_type": "markdown",
      "source": [
        "Напишите систему для учёта отпусков с возможностью узнавать, сколько дней отпуска осталось у того или иного сотрудника.\n",
        "Для этого создайте класс Employee со следующими методами:\n",
        "\n",
        "- Метод consume_vacation должен отвечать за списание дней отпуска.\n",
        "\n",
        "Единственный параметр этого метода (кроме self) — количество потраченных отпускных дней (целое число).\n",
        "\n",
        "При вызове метода consume_vacation соответствующее количество дней должно вычитаться из общего числа доступных отпускных дней сотрудника.\n",
        "\n",
        "Чтобы определить число доступных отпускных дней конкретного сотрудника, в классе опишите атрибут экземпляра |, который по умолчанию будет равен значению атрибута класса vacation_days, и используйте этот атрибут в работе метода.\n",
        "\n",
        "- Метод get_vacation_details должен возвращать остаток отпускных дней сотрудника в формате: ```Остаток отпускных дней: <число>.```\n",
        "\n",
        "\n",
        "Чтобы проверить работу программы:\n",
        "1. Создайте экземпляр класса Employee.\n",
        "2. Вызовите метод consume_vacation, указав подходящее значение аргумента, например 7.\n",
        "3. Вызовите метод get_vacation_details."
      ],
      "metadata": {
        "id": "a_flBjZOCwYz"
      }
    },
    {
      "cell_type": "code",
      "source": [
        "class Employee:\n",
        "    def __init__(self,vacation_days):\n",
        "      self.vacation_days=vacation_days\n",
        "\n",
        "    def consume_vacation(self,amount):\n",
        "      self.vacation_days-=amount\n",
        "\n",
        "    def vacation_left(self):\n",
        "      print('Остаток отпускных дней:',self.vacation_days)\n",
        "\n",
        "\n",
        "emp=Employee(28)\n",
        "emp.consume_vacation(12)\n",
        "emp.vacation_left()\n",
        "\n",
        "\n"
      ],
      "metadata": {
        "id": "G4bUraN4CwBI",
        "colab": {
          "base_uri": "https://localhost:8080/"
        },
        "outputId": "c277e80c-f273-44a1-cd67-e96cd7b0b214"
      },
      "execution_count": null,
      "outputs": [
        {
          "output_type": "stream",
          "name": "stdout",
          "text": [
            "Остаток отпускных дней: 16\n"
          ]
        }
      ]
    },
    {
      "cell_type": "markdown",
      "source": [
        "# Задание 1"
      ],
      "metadata": {
        "id": "8XGka5GtEBK1"
      }
    },
    {
      "cell_type": "markdown",
      "source": [
        "Задание:\n",
        "\n",
        "Создайте класс с именем Rectangle который имеет:\n",
        "- Атрибуты ширины и высоты.\n",
        "- Метод расчета площади.\n",
        "- Метод расчета периметра.\n",
        "- Метод отображения размеров прямоугольника.\n",
        "\n",
        "Создайте экземпляр класса Rectangleи продемонстрируйте его функциональность."
      ],
      "metadata": {
        "id": "jQ4qqd8nEZBY"
      }
    },
    {
      "cell_type": "code",
      "source": [
        "class Rectangle:\n",
        "    def __init__(self,lenght,widht):\n",
        "      self.lenght=lenght\n",
        "      self.widht=widht\n",
        "\n",
        "    def S(self):\n",
        "      print(self.lenght*self.widht)\n",
        "\n",
        "    def P(self):\n",
        "      print(self.lenght*2+self.widht*2)\n",
        "\n",
        "    def size(self):\n",
        "      print(self.lenght,self.widht)\n",
        "\n",
        "    def print_size(self):\n",
        "      print('1 '*self.widht)\n",
        "      for i in range(self.lenght-2):\n",
        "        print(f\"1{'  '*(self.widht-2)} 1\")\n",
        "      print('1 '*self.widht)\n",
        "\n",
        "rect=Rectangle(40,40)\n",
        "rect.S()\n",
        "rect.P()\n",
        "rect.size()\n",
        "rect.print_size()"
      ],
      "metadata": {
        "id": "dG6uNPqTEAvt",
        "colab": {
          "base_uri": "https://localhost:8080/"
        },
        "outputId": "53cb3b95-d82b-4d37-dfd6-ee43bf683deb"
      },
      "execution_count": null,
      "outputs": [
        {
          "output_type": "stream",
          "name": "stdout",
          "text": [
            "1600\n",
            "160\n",
            "40 40\n",
            "1 1 1 1 1 1 1 1 1 1 1 1 1 1 1 1 1 1 1 1 1 1 1 1 1 1 1 1 1 1 1 1 1 1 1 1 1 1 1 1 \n",
            "1                                                                             1\n",
            "1                                                                             1\n",
            "1                                                                             1\n",
            "1                                                                             1\n",
            "1                                                                             1\n",
            "1                                                                             1\n",
            "1                                                                             1\n",
            "1                                                                             1\n",
            "1                                                                             1\n",
            "1                                                                             1\n",
            "1                                                                             1\n",
            "1                                                                             1\n",
            "1                                                                             1\n",
            "1                                                                             1\n",
            "1                                                                             1\n",
            "1                                                                             1\n",
            "1                                                                             1\n",
            "1                                                                             1\n",
            "1                                                                             1\n",
            "1                                                                             1\n",
            "1                                                                             1\n",
            "1                                                                             1\n",
            "1                                                                             1\n",
            "1                                                                             1\n",
            "1                                                                             1\n",
            "1                                                                             1\n",
            "1                                                                             1\n",
            "1                                                                             1\n",
            "1                                                                             1\n",
            "1                                                                             1\n",
            "1                                                                             1\n",
            "1                                                                             1\n",
            "1                                                                             1\n",
            "1                                                                             1\n",
            "1                                                                             1\n",
            "1                                                                             1\n",
            "1                                                                             1\n",
            "1                                                                             1\n",
            "1 1 1 1 1 1 1 1 1 1 1 1 1 1 1 1 1 1 1 1 1 1 1 1 1 1 1 1 1 1 1 1 1 1 1 1 1 1 1 1 \n"
          ]
        }
      ]
    },
    {
      "cell_type": "markdown",
      "source": [
        "# Задание 2"
      ],
      "metadata": {
        "id": "0ct1u6lqE73j"
      }
    },
    {
      "cell_type": "markdown",
      "source": [
        "Задание: Создайте мини версию банковской системы:\n",
        "\n",
        "\n",
        "Инструкции:\n",
        "\n",
        "1. Создайте класс BankAccountсо следующими атрибутами:\n",
        "    - account_holder -  владелец счета\n",
        "    - balance - баланс счета\n",
        "\n",
        "2. Реализуйте следующие методы:\n",
        "    - Метод для инициализации владельца счета: имя владельца счета и установите начальный баланс на 0.\n",
        "    - deposit(amount): Добавьте указанную сумму к балансу.\n",
        "    - withdraw(amount): Вычесть указанную сумму из баланса, если средств достаточно; в противном случае вывести предупреждение.\n",
        "    - get_balance(): Возврат текущего баланса.\n",
        "\n",
        "\n",
        "Создайте объект класса и продемонстрируйте его возможности"
      ],
      "metadata": {
        "id": "FOpIpcLxE-WK"
      }
    },
    {
      "cell_type": "code",
      "source": [
        "class BankAccount:\n",
        "    def __init__(self,account_holder,balance):\n",
        "      self.account_holder=account_holder\n",
        "      self.balance=balance\n",
        "\n",
        "    def deposit(self,amount):\n",
        "      self.balance+=amount\n",
        "\n",
        "    def withdraw(self,amount):\n",
        "      self.balance-=amount\n",
        "\n",
        "    def get_balance(self):\n",
        "      print(self.balance)\n",
        "\n",
        "t=BankAccount('Dima',0)\n",
        "t.deposit(1000)\n",
        "print(t.balance)\n",
        "t.withdraw(500)\n",
        "t.get_balance()\n"
      ],
      "metadata": {
        "id": "WWXNIUrCE99W",
        "colab": {
          "base_uri": "https://localhost:8080/"
        },
        "outputId": "181fd822-ddf1-4b17-d05f-1cfbfdefc65a"
      },
      "execution_count": null,
      "outputs": [
        {
          "output_type": "stream",
          "name": "stdout",
          "text": [
            "1000\n",
            "500\n"
          ]
        }
      ]
    },
    {
      "cell_type": "markdown",
      "source": [
        "# Задание 3"
      ],
      "metadata": {
        "id": "C5DX5Uf2FfP6"
      }
    },
    {
      "cell_type": "markdown",
      "source": [
        "Возьмите код и задание (Рыцарь и дракон) из предыдущей практики и реализуйте его с применением классов"
      ],
      "metadata": {
        "id": "0cR-MYepFgz6"
      }
    },
    {
      "cell_type": "code",
      "source": [
        "import random\n",
        "\n",
        "\n",
        "class Entity:\n",
        "\n",
        "    def __init__(self,name,hp,weapon,armor):\n",
        "      self.name=name\n",
        "      self.hp=hp\n",
        "      self.weapon=weapon\n",
        "      self.armor=armor\n",
        "\n",
        "    def earn_damage(self,damage):\n",
        "      if damage>self.armor:\n",
        "        self.hp-=damage\n",
        "        self.hp+=self.armor\n",
        "        print(self.name,'recieved',damage-self.armor,'damage')\n",
        "        print(self.name,'hp is',self.hp)\n",
        "\n",
        "    def heal(self):\n",
        "      self.hp+=50\n",
        "      print(self.name,'hp is',self.hp)\n",
        "\n",
        "\n",
        "class Labirinth:\n",
        "\n",
        "    def __init__(self):\n",
        "      self.room_now=1\n",
        "      self.till_boss=random.randrange(5,9)\n",
        "\n",
        "    def next_room(self):\n",
        "      self.room_now+=1\n",
        "\n",
        "\n",
        "class RoomParameters:\n",
        "\n",
        "    def __init__(self):\n",
        "      self.chest=random.randrange(2)\n",
        "      self.enemy=random.randrange(2)\n",
        "\n",
        "\n",
        "def fight(hero,enemy):\n",
        "  print('You fight against the',enemy.name)\n",
        "  while enemy.hp>0 and hero.hp>0:\n",
        "    action=input('You want \"attack\" or \"heal\": ')\n",
        "    if action=='attack':\n",
        "      atack_is=hero.weapon+random.randrange(1,5) #like 1D4 from DnD\n",
        "      enemy.earn_damage(atack_is)\n",
        "    elif action=='heal':\n",
        "      hero.heal()\n",
        "    attack_is=enemy.weapon+random.randrange(1,5)\n",
        "    hero.earn_damage(attack_is)\n",
        "  if hero.hp>0:\n",
        "    print(enemy.name,'is defeated')\n",
        "    return 1\n",
        "  elif enemy.hp>0:\n",
        "    print('You died')\n",
        "    return 0\n",
        "\n",
        "\n",
        "weapons={'Sword':10,\n",
        "         'Axe':15,\n",
        "         'Pickaxe':3,\n",
        "         'Bow':21\n",
        "}\n",
        "rarities={'common':1.0,\n",
        "          'rare':1.5,\n",
        "          'epic':2.0\n",
        "}\n",
        "enemies={'Zombi':[75,7,5],\n",
        "         'Skeleton':[50,10,3]\n",
        "}\n",
        "hero=Entity('Hero',300,5000,5) # 5000 это огромная атака для быстрой проверки\n",
        "dragon=Entity('Dragon',300,20,10)\n",
        "labirinth=Labirinth()\n",
        "print(f'You enter the labirinth with {labirinth.till_boss} rooms till boss')\n",
        "\n",
        "while True:\n",
        "  if labirinth.room_now==labirinth.till_boss:\n",
        "    print('You enters the Dragon palace')\n",
        "    if fight(hero,dragon):\n",
        "      print('You finished the game')\n",
        "      break\n",
        "    else:\n",
        "      break\n",
        "  else:\n",
        "    room=RoomParameters()\n",
        "  print(labirinth.room_now,'room')\n",
        "  if room.enemy:\n",
        "    enemy=random.choice(list(enemies.keys()))\n",
        "    enemy_stats=enemies[enemy]\n",
        "    enemy=Entity(enemy,0+enemy_stats[0],0+enemy_stats[1],0+enemy_stats[2])\n",
        "    if not fight(hero,enemy):\n",
        "      break\n",
        "  else:\n",
        "    print('no enemy )')\n",
        "  if room.chest:\n",
        "    item=random.choice(list(weapons.keys()))\n",
        "    rarity=random.choice(list(rarities.keys()))\n",
        "    print(f'You find a weapon {rarity} {item} with {int(weapons[item]*rarities[rarity])} damage')\n",
        "    choice=input('You want it (yes/no):')\n",
        "    if choice=='yes':\n",
        "      hero.weapon=int(weapons[item]*rarities[rarity])\n",
        "    else:\n",
        "      print('ok')\n",
        "  else:\n",
        "    print('no chest (')\n",
        "  labirinth.room_now+=1\n",
        "\n",
        "print('Restart the code')\n",
        "\n",
        "\n",
        "\n",
        "\n",
        "\n"
      ],
      "metadata": {
        "id": "Oz9BZbhAFwua"
      },
      "execution_count": null,
      "outputs": []
    },
    {
      "cell_type": "markdown",
      "source": [
        "# Дополнительное задание\n"
      ],
      "metadata": {
        "id": "b_mJHXcQGI9t"
      }
    },
    {
      "cell_type": "markdown",
      "source": [
        "Задача: Система управления библиотекой\n",
        "\n",
        "**Цель**\n",
        "Создайте простую систему управления библиотекой, которая позволит пользователям добавлять книги, брать книги, возвращать книги и просматривать список доступных книг.\n",
        "\n",
        "**Требования**\n",
        "\n",
        "1. **Определение класса**:\n",
        "   – Создайте класс с именем «Book» со следующими атрибутами:\n",
        "     - `title`\n",
        "     - `автор`\n",
        "     - `isbn`\n",
        "     - `is_borrowed` (по умолчанию `False`)\n",
        "\n",
        "2. **Класс библиотеки**:\n",
        "   - Создайте класс с именем Library, который управляет коллекцией книг.\n",
        "   - Класс должен иметь следующие методы:\n",
        "     - `__init__(self)`: инициализирует пустой список книг.\n",
        "     - `add_book(self, book: Book)`: добавляет новую книгу в библиотеку.\n",
        "     - `borrow_book(self, isbn: str)`: помечает книгу как заимствованную. Если книга не найдена или уже взята, выведите соответствующее сообщение.\n",
        "     - `return_book(self, isbn: str)`: помечает книгу как возвращенную. Если книга не найдена или не была взята взаймы, выведите соответствующее сообщение.\n",
        "     - `list_available_books(self)`: печатает список всех доступных книг в библиотеке.\n",
        "     - `find_book(self, isbn: str)`: возвращает объект книги, если он найден, в противном случае возвращает `None`.\n",
        "\n",
        "3. **Взаимодействие с пользователем**:\n",
        "   - Создайте простое текстовое меню, которое позволит пользователям:\n",
        "     - Добавить книгу\n",
        "     - Одолжить книгу\n",
        "     - Вернуть книгу\n",
        "     - Список доступных книг\n",
        "     - Выйти из программы"
      ],
      "metadata": {
        "id": "pnIUdFPcGOVL"
      }
    },
    {
      "cell_type": "code",
      "source": [],
      "metadata": {
        "id": "GKKmdfN8GL6f"
      },
      "execution_count": null,
      "outputs": []
    }
  ]
}
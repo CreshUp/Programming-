{
  "cells": [
    {
      "cell_type": "markdown",
      "metadata": {
        "id": "view-in-github",
        "colab_type": "text"
      },
      "source": [
        "<a href=\"https://colab.research.google.com/github/CreshUp/Programming-/blob/main/%D0%9F%D1%80%D0%B0%D0%BA%D1%82%D0%B8%D0%BA%D0%B0_0_2_0.ipynb\" target=\"_parent\"><img src=\"https://colab.research.google.com/assets/colab-badge.svg\" alt=\"Open In Colab\"/></a>"
      ]
    },
    {
      "cell_type": "markdown",
      "metadata": {
        "id": "0PnTh-ajEoEb"
      },
      "source": [
        "Плескачёв Дмитрий Александрович"
      ]
    },
    {
      "cell_type": "code",
      "execution_count": null,
      "metadata": {
        "colab": {
          "base_uri": "https://localhost:8080/"
        },
        "id": "QyMVPjzWErHw",
        "outputId": "7a1724de-56a9-4b4e-f7dd-d5fca42ff012"
      },
      "outputs": [
        {
          "name": "stdout",
          "output_type": "stream",
          "text": [
            "Привет студентам!\n"
          ]
        }
      ],
      "source": [
        "print('Привет студентам!')"
      ]
    },
    {
      "cell_type": "markdown",
      "metadata": {
        "id": "HPwKiIA4EKO-"
      },
      "source": [
        "# Основы"
      ]
    },
    {
      "cell_type": "markdown",
      "metadata": {
        "id": "8po5IidFERZ8"
      },
      "source": [
        "Задание 1: Напиши программу, выводящую на экран сообщение \"Привет, мир!\""
      ]
    },
    {
      "cell_type": "code",
      "execution_count": null,
      "metadata": {
        "colab": {
          "base_uri": "https://localhost:8080/"
        },
        "id": "sBRjlCVLEIQr",
        "outputId": "43a1502b-0e38-4ad4-f436-942a95d117ce"
      },
      "outputs": [
        {
          "name": "stdout",
          "output_type": "stream",
          "text": [
            "Привет, мир!\n"
          ]
        }
      ],
      "source": [
        "print(\"Привет, мир!\")"
      ]
    },
    {
      "cell_type": "markdown",
      "metadata": {
        "id": "pUQIIo94EYLg"
      },
      "source": [
        "Задание 2: Напиши программу которая запрашивает имя пользователя и выводит сообщение:\n",
        "\n",
        "`Привет, <Имя пользователя>`"
      ]
    },
    {
      "cell_type": "code",
      "execution_count": null,
      "metadata": {
        "id": "nNwHKmAnEinH"
      },
      "outputs": [],
      "source": [
        "imya=input('Напиши своё имя ')\n",
        "print('Привет,', imya)"
      ]
    },
    {
      "cell_type": "markdown",
      "metadata": {
        "id": "SAUm9W6_Etkh"
      },
      "source": [
        "Задание 3: Напиши программу определяющую является ли число четным или нечетным:\n",
        "\n",
        "Пример:\n",
        "\n",
        "`Введите число:` 2\n",
        "\n",
        "`Ваше число четное!`"
      ]
    },
    {
      "cell_type": "code",
      "execution_count": null,
      "metadata": {
        "colab": {
          "base_uri": "https://localhost:8080/"
        },
        "id": "LXv7AIN1E4on",
        "outputId": "3bbba677-6da6-406c-a19d-285668dc190d"
      },
      "outputs": [
        {
          "name": "stdout",
          "output_type": "stream",
          "text": [
            "Введите число: 8\n",
            "ono chetnoe\n"
          ]
        }
      ],
      "source": [
        "a=int(input('Введите число: '))\n",
        "if a%2==0:\n",
        "  print('ono chetnoe')\n",
        "else:\n",
        "  print('net')"
      ]
    },
    {
      "cell_type": "markdown",
      "metadata": {
        "id": "OW1Y5KyUE_n9"
      },
      "source": [
        "Задание 4: Напишите программу которая запрашивает длинну и ширину прямоугольника и выводит его площадь:\n",
        "\n",
        "\n",
        "\n",
        "`Введите длинну прямоугольника:`\n",
        "\n",
        "`Введите ширину прямоугольника:`\n",
        "\n",
        "`Площадь прямоугольника: `\n",
        "\n"
      ]
    },
    {
      "cell_type": "code",
      "execution_count": null,
      "metadata": {
        "id": "Bu5iawknFbXP"
      },
      "outputs": [],
      "source": [
        "a=int(input('Введите длинну прямоугольника:'))\n",
        "b=int(input('Введите ширину прямоугольника:'))\n",
        "print(a*b)"
      ]
    },
    {
      "cell_type": "markdown",
      "metadata": {
        "id": "xj8_QNLsFfLw"
      },
      "source": [
        "Задание 5: Напишите программу, которая будет вычислять среднее арифметическое введенных чисел"
      ]
    },
    {
      "cell_type": "code",
      "execution_count": null,
      "metadata": {
        "colab": {
          "base_uri": "https://localhost:8080/"
        },
        "id": "omumX59JFoKw",
        "outputId": "350e581b-66a8-41f1-b4c3-25da4b1de61d"
      },
      "outputs": [
        {
          "name": "stdout",
          "output_type": "stream",
          "text": [
            "ЧЕРЕЗ ПРОБЕЛ ВВЕСТИ:1 2 3\n",
            "2.0\n"
          ]
        }
      ],
      "source": [
        "l=list(map(int, input(\"ЧЕРЕЗ ПРОБЕЛ ВВЕСТИ ЧИСЛА:\").split()))\n",
        "print(sum(l)/len(l))"
      ]
    },
    {
      "cell_type": "markdown",
      "metadata": {
        "id": "qHXcBMUJcP91"
      },
      "source": [
        "Задание 6: Напиши программу, которая бы определяла является ли год високосным"
      ]
    },
    {
      "cell_type": "code",
      "execution_count": null,
      "metadata": {
        "colab": {
          "base_uri": "https://localhost:8080/"
        },
        "id": "5zIg47mwcKKr",
        "outputId": "293b0664-2c30-4070-957e-30b65b4a65b0"
      },
      "outputs": [
        {
          "name": "stdout",
          "output_type": "stream",
          "text": [
            "Введите год: 1196\n",
            "високосный\n"
          ]
        }
      ],
      "source": [
        "year=int(input('Введите год: '))\n",
        "if year%4==0 and not(year%100==0) or year%400==0:\n",
        "  print('високосный')\n",
        "else:\n",
        "  print('не високосный')\n",
        "\n"
      ]
    },
    {
      "cell_type": "markdown",
      "metadata": {
        "id": "CYaQ69kucdhj"
      },
      "source": [
        "Задание 7: Необходимо создать простой калькулятор, который позволяет пользователю выбрать одну из четырёх операций (+, -, *, /), ввести два числа и получить результат выполнения операции."
      ]
    },
    {
      "cell_type": "code",
      "execution_count": null,
      "metadata": {
        "colab": {
          "base_uri": "https://localhost:8080/"
        },
        "id": "wR5UyEf7ciIE",
        "outputId": "deaf0195-adc1-4910-9bfb-c4b0e479a910"
      },
      "outputs": [
        {
          "name": "stdout",
          "output_type": "stream",
          "text": [
            "Выберите число 9\n",
            "Выберите операцию(+, -, *, /): *\n",
            "Выберите число 46347627.5\n",
            "417128647.5\n"
          ]
        }
      ],
      "source": [
        "a=float(input('Выберите число '))\n",
        "c=input(\"Выберите операцию(+, -, *, /): \")\n",
        "b=float(input('Выберите число '))\n",
        "if c=='+':\n",
        "  print(a+b)\n",
        "elif c=='-':\n",
        "  print(a-b)\n",
        "elif c=='*':\n",
        "  print(a*b)\n",
        "elif c=='/':\n",
        "  print(a/b)"
      ]
    },
    {
      "cell_type": "markdown",
      "metadata": {
        "id": "PcJ66hI-vAlk"
      },
      "source": [
        "--------------------------------------------------------------------------------\n",
        "\n",
        "**Да, задания ниже тоже обязательны, вам необходимо выполнить веееееесь файл**\n",
        "\n",
        "--------------------------------------------------------------------------------\n"
      ]
    },
    {
      "cell_type": "markdown",
      "metadata": {
        "id": "XWBhGpdEFo-U"
      },
      "source": [
        "# Практика 0.2.1"
      ]
    },
    {
      "cell_type": "markdown",
      "metadata": {
        "id": "9Lw9odpqFwtn"
      },
      "source": [
        "**Шахматы**\n",
        "\n",
        "Даны стартовые и конечные координаты, а также фигура\n",
        "\n",
        "Необходимо определить, может ли заданная фигура так ходить?"
      ]
    },
    {
      "cell_type": "code",
      "execution_count": null,
      "metadata": {
        "colab": {
          "background_save": true,
          "base_uri": "https://localhost:8080/"
        },
        "id": "9IICo0p3F07P",
        "outputId": "225a372f-d762-4b30-dae2-13673017e17c"
      },
      "outputs": [
        {
          "name": "stdout",
          "output_type": "stream",
          "text": [
            "Поле 8х8, верхний левый 11, нижний правый 88, вы смотрите сверху\n"
          ]
        }
      ],
      "source": [
        "print('Поле 8х8, верхний левый 11, нижний правый 88, вы смотрите сверху')\n",
        "k1=input('Дать координаты начала, вида - 22, 53, 68: ')\n",
        "k2=input('Дать координаты конца, вида - 22, 53, 68: ')\n",
        "f=input('Выберите фигуру(пешка/ферзь/конь/король/слон/ладья): ')\n",
        "d=[[0,0,0,0,0,0,0,0]*8]\n",
        "i1=int(k1[0])\n",
        "j1=int(k1[1])\n",
        "i2=int(k2[0])\n",
        "j2=int(k2[1])\n",
        "p=1\n",
        "if f=='пешка':\n",
        "  if i1+1<9:\n",
        "    if i1+1==i2 and j1==j2:\n",
        "      print('Ходить можно')\n",
        "      p=0\n",
        "if f=='ладья':\n",
        "  if i1==i2 or j1==j2:\n",
        "    print('Ходить можно')\n",
        "    p=0\n",
        "if f=='слон':\n",
        "  i=abs(i1-i2)\n",
        "  j=abs(j1-j2)\n",
        "  if j==i:\n",
        "    print('Ходить можно')\n",
        "    p=0\n",
        "if f=='ферзь':\n",
        "  i=abs(i1-i2)\n",
        "  j=abs(j1-j2)\n",
        "  if (j==i) or (i1==i2 or j1==j2):\n",
        "    print('Ходить можно')\n",
        "    p=0\n",
        "if f=='конь':\n",
        "  i=abs(i1-i2)\n",
        "  j=abs(j1-j2)\n",
        "  if i==2 and j==1 or j==2 and i ==1:\n",
        "    print('Ходить можно')\n",
        "    p=0\n",
        "if f=='король':\n",
        "  if -1<=i1-i2<=1 and -1<=j1-j2<=1:\n",
        "    print('Ходить можно')\n",
        "    p=0\n",
        "if p:\n",
        "  print('Ходить нельзя')\n"
      ]
    },
    {
      "cell_type": "markdown",
      "metadata": {
        "id": "wI5bLNpHGDmO"
      },
      "source": [
        "# Практика 0.2.2\n",
        "\n",
        "**Цифра на определенном месте:**\n",
        "\n",
        "Последовательно записан натуральный ряд чисел.\n",
        "\n",
        "Какая цифра стоит в N позиции"
      ]
    },
    {
      "cell_type": "code",
      "execution_count": null,
      "metadata": {
        "colab": {
          "base_uri": "https://localhost:8080/"
        },
        "id": "XLm_zFGzGNsU",
        "outputId": "8e9ad973-8494-4005-8985-27ac88487125"
      },
      "outputs": [
        {
          "name": "stdout",
          "output_type": "stream",
          "text": [
            "ЧЕРЕЗ ПРОБЕЛ ВВЕСТИ ЧИСЛА:1 2 3 4 5 6 7 8 9 10 44 576 67899383 678\n",
            "На какой позиции найти число(начиная с 1) 16\n",
            "6\n"
          ]
        }
      ],
      "source": [
        "l=input(\"ЧЕРЕЗ ПРОБЕЛ ВВЕСТИ ЧИСЛА:\")\n",
        "n=int(input('На какой позиции найти число(начиная с 1) '))\n",
        "l=l.replace(' ','')\n",
        "print(l[n-1])"
      ]
    },
    {
      "cell_type": "markdown",
      "metadata": {
        "id": "dpxTJv-scnMy"
      },
      "source": [
        "# Практика 0.2.3\n",
        "\n",
        "\n",
        "Возьмите код из задания 7 и улучшите ваш калькулятор следующим образом:\n",
        "\n",
        "Пользователь вводит строку вида:\n",
        "\n",
        "(5+5)*5 - данная строка содержит в себе математическое выражение, а также скобки\n",
        "\n",
        "Ваша программа должная понять что за математическое выражение записано, проверить верно ли оно записано (пример неверного заполнения: (5(+)5)*5, а также расчитать его в соотвествии с правилами математики"
      ]
    },
    {
      "cell_type": "code",
      "execution_count": null,
      "metadata": {
        "id": "18gOluyHcmmf",
        "colab": {
          "base_uri": "https://localhost:8080/"
        },
        "outputId": "cf2fa091-8277-41ac-c9f8-e047d5d999ae"
      },
      "outputs": [
        {
          "output_type": "stream",
          "name": "stdout",
          "text": [
            "Введите ваше уравнение:(5+5*5\n",
            "Фигню написали\n"
          ]
        }
      ],
      "source": [
        "y=input(\"Введите ваше уравнение:\")\n",
        "skobT=0\n",
        "znak=1\n",
        "g='+-*/'\n",
        "pr=['(+','+)','-)','(*','*)','(/','/)','()',')(']\n",
        "p=1\n",
        "for i in pr:\n",
        "  if i in y:\n",
        "    print('Фигню написали')\n",
        "    p=0\n",
        "if p:\n",
        "  for i in range(len(y)-1):\n",
        "    if y[i] in g and y[i+1] in g:\n",
        "      p=0\n",
        "      print('Фигню написали')\n",
        "  for i in y:\n",
        "    if i == '(':\n",
        "      skobT+=1\n",
        "    elif i==')':\n",
        "      skobT-=1\n",
        "    if skobT<0:\n",
        "      print('Фигню написали')\n",
        "      p=0\n",
        "  if skobT!=0:\n",
        "    print('Фигню написали')\n",
        "    p=0\n",
        "if p:\n",
        "  print('Молодцы ур-ие норм')\n",
        "#Вычисления не смог реализовать"
      ]
    }
  ],
  "metadata": {
    "colab": {
      "provenance": [],
      "include_colab_link": true
    },
    "kernelspec": {
      "display_name": "Python 3",
      "name": "python3"
    },
    "language_info": {
      "name": "python"
    }
  },
  "nbformat": 4,
  "nbformat_minor": 0
}
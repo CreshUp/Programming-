{
  "nbformat": 4,
  "nbformat_minor": 0,
  "metadata": {
    "colab": {
      "provenance": [],
      "include_colab_link": true
    },
    "kernelspec": {
      "name": "python3",
      "display_name": "Python 3"
    },
    "language_info": {
      "name": "python"
    }
  },
  "cells": [
    {
      "cell_type": "markdown",
      "metadata": {
        "id": "view-in-github",
        "colab_type": "text"
      },
      "source": [
        "<a href=\"https://colab.research.google.com/github/CreshUp/Programming-/blob/main/%D0%9F%D1%80%D0%B0%D0%BA%D1%82%D0%B8%D0%BA%D0%B0_0_3_0.ipynb\" target=\"_parent\"><img src=\"https://colab.research.google.com/assets/colab-badge.svg\" alt=\"Open In Colab\"/></a>"
      ]
    },
    {
      "cell_type": "markdown",
      "source": [
        "ФИО"
      ],
      "metadata": {
        "id": "phMKaFq3DN13"
      }
    },
    {
      "cell_type": "code",
      "execution_count": null,
      "metadata": {
        "id": "3CWpaI7SDK8t"
      },
      "outputs": [],
      "source": [
        "Плескачёв Дмитрий Александрович"
      ]
    },
    {
      "cell_type": "markdown",
      "source": [
        "**Во всей практике нельзя применять библиотеки предоставляющие готовые решения!**"
      ],
      "metadata": {
        "id": "jyIy3GOgFOCe"
      }
    },
    {
      "cell_type": "markdown",
      "source": [
        "# **Задача 1.**\n"
      ],
      "metadata": {
        "id": "XizmlL1RK2t3"
      }
    },
    {
      "cell_type": "markdown",
      "source": [
        "\n",
        "\n",
        "Типы данных Напишите программу на Python, которая принимает список чисел в качестве входных данных от пользователя, а затем выводит сумму, среднее значение и максимальное значение из списка.\n",
        "\n",
        "***Нельзя использовать: len(), min(), max(), average(), sum()***\n",
        "\n",
        "Ввод:\n",
        "```\n",
        "1 2 3 4 5 6 7\n",
        "```\n",
        "Вывод:\n",
        "\n",
        "```\n",
        "Сумма чисел: 28\n",
        "Среднее арифм.: 4.0\n",
        "Максимальное значение: 7\n",
        "```\n",
        "\n"
      ],
      "metadata": {
        "id": "p0v6KtHTFKSd"
      }
    },
    {
      "cell_type": "code",
      "source": [
        "s=list(map(int, input().split()))\n",
        "\n",
        "s.append('m')\n",
        "i=0\n",
        "su=0\n",
        "while s[i]!='m':\n",
        "  su+=s[i]\n",
        "  i+=1\n",
        "\n",
        "\n",
        "leng=i\n",
        "sred=su/leng\n",
        "maximus=-1000000000000000000\n",
        "for i in range(leng):\n",
        "  if maximus<s[i]:\n",
        "    maximus=s[i]\n",
        "  else:\n",
        "    maximus=maximus\n",
        "print('Сумма чисел: ',su)\n",
        "print('Среднее арифм.: ', sred)\n",
        "print('Максимальное значение: ', maximus)"
      ],
      "metadata": {
        "colab": {
          "base_uri": "https://localhost:8080/"
        },
        "id": "u8n8BOR77QFA",
        "outputId": "689c8cae-57cf-4db3-b70b-168efcf2f892"
      },
      "execution_count": null,
      "outputs": [
        {
          "output_type": "stream",
          "name": "stdout",
          "text": [
            "1 2 3 4 5 6 7\n",
            "[1, 2, 3, 4, 5, 6, 7, 'm']\n",
            "Сумма чисел:  28\n",
            "Среднее арифм.:  4.0\n",
            "Максимальное значение:  7\n"
          ]
        }
      ]
    },
    {
      "cell_type": "markdown",
      "source": [
        "# **Задача 2.**"
      ],
      "metadata": {
        "id": "uFluc5OSK0NH"
      }
    },
    {
      "cell_type": "markdown",
      "source": [
        "\n",
        "Напишите программу на Python, которая принимает список слов в качестве входных данных от пользователя, а затем распечатывает список в обратном порядке.\n",
        "\n",
        "Ввод:\n",
        "\n",
        "```\n",
        "апельсин мандарин яблоко\n",
        "```\n",
        "\n",
        "Вывод:\n",
        "\n",
        "```\n",
        "яблоко мандарин апельсин\n",
        "```"
      ],
      "metadata": {
        "id": "6T8vg324GG4Z"
      }
    },
    {
      "cell_type": "code",
      "source": [
        "s = list(input().split())\n",
        "for i in range(1,len(s)+1):\n",
        "  print(s[i*-1],end=' ')"
      ],
      "metadata": {
        "id": "v3AWj4ufGKox",
        "colab": {
          "base_uri": "https://localhost:8080/"
        },
        "outputId": "a1adf0ad-edbe-4455-ad45-53d81bf6db43"
      },
      "execution_count": null,
      "outputs": [
        {
          "output_type": "stream",
          "name": "stdout",
          "text": [
            "яяя яяя ууу ууу\n",
            "ууу ууу яяя яяя "
          ]
        }
      ]
    },
    {
      "cell_type": "markdown",
      "source": [
        "# **Задача 3**"
      ],
      "metadata": {
        "id": "D1KkCxtIKxRx"
      }
    },
    {
      "cell_type": "markdown",
      "source": [
        "Простой чат-бот\n",
        "Создайте простого чат-бота, который отвечает на основные запросы пользователей. Программа должна использовать условные выражения для определения намерений пользователя и последующего соответствующего ответа.\n",
        "\n",
        "Чат бот может:\n",
        "\n",
        "- помогать складывать числа\n",
        "- подсказывать фильм, музыку и тд (из заранее созданного списка)\n",
        "- создавать список дел (а также выводить его, обновлять, очищать)\n",
        "\n",
        "Интерфейс чат-бота на ваше усмотрение, это могут быть как заранее определенные команды, так и к примеру вызов команды по номеру\n",
        "\n",
        "*Реализовать без использования функций*\n",
        "\n",
        "Пример:\n",
        "\n",
        "Ввод:\n",
        "\n",
        "```\n",
        "Олег, какую мызыку посоветуешь?\n",
        "```\n",
        "\n",
        "Вывод:\n",
        "\n",
        "```\n",
        "Я бы посоветовал вам: Led Zeppelin Stairway to Heaven\n",
        "```"
      ],
      "metadata": {
        "id": "Yq8Jgb9yHvSi"
      }
    },
    {
      "cell_type": "code",
      "source": [
        "dela=[]\n",
        "while True:\n",
        "  print(\"чего вам надобно?\")\n",
        "  otv=input()\n",
        "  if 'музыку' in otv:\n",
        "    print('Иди слушать Alestorm, у них все песни имба')\n",
        "    continue\n",
        "  if 'кино' in otv:\n",
        "    print('Иди смотреть кино от Marvel, у них все фильмы имба')\n",
        "    continue\n",
        "  if 'сложить' in otv:\n",
        "    print('Введите два числа через пробел')\n",
        "    i = s=list(map(int, input().split()))\n",
        "    print(sum(i))\n",
        "    continue\n",
        "  if 'дела' in otv or 'делам' in otv or 'делами' in otv:\n",
        "    print('сейчас у вас',len(dela), 'дел')\n",
        "    print('________Вот все ваши дела ________')\n",
        "    print(*dela)\n",
        "    print('________Вот все ваши дела ________')\n",
        "    print('желаете очистить список дел?')\n",
        "    if input()=='да':\n",
        "\n",
        "      dela=[]\n",
        "    print('Желаете добавить новое?')\n",
        "    if input()=='да':\n",
        "      print('напишите что за дело')\n",
        "      dela.append(input())\n",
        "\n",
        "\n",
        "\n"
      ],
      "metadata": {
        "id": "fmW-tmUtINN9",
        "colab": {
          "base_uri": "https://localhost:8080/",
          "height": 928
        },
        "outputId": "d7d043e1-65b8-4fcb-d562-0cfbdaf7a512"
      },
      "execution_count": null,
      "outputs": [
        {
          "output_type": "stream",
          "name": "stdout",
          "text": [
            "чего вам надобно?\n",
            "ничего\n",
            "чего вам надобно?\n",
            "иди нафиг\n",
            "чего вам надобно?\n",
            "Хочу послушать музыку\n",
            "Иди слушать Alestorm, у них все песни имба\n",
            "чего вам надобно?\n",
            "Чё там по делам\n",
            "сейчас у вас  0 дел\n",
            "\n",
            "желаете очистить список дел?\n",
            "нет\n",
            "Желаете добавить новое?\n",
            "да\n",
            "напишите что за дело\n",
            "Хочу сходить попить\n",
            "чего вам надобно?\n",
            "Чё там с делами\n",
            "сейчас у вас  1 дел\n",
            "Хочу сходить попить\n",
            "желаете очистить список дел?\n",
            "нет\n",
            "Желаете добавить новое?\n",
            "нет\n",
            "чего вам надобно?\n",
            "Дела\n",
            "чего вам надобно?\n",
            "дела\n",
            "сейчас у вас  1 дел\n",
            "Хочу сходить попить\n",
            "желаете очистить список дел?\n"
          ]
        },
        {
          "output_type": "error",
          "ename": "KeyboardInterrupt",
          "evalue": "Interrupted by user",
          "traceback": [
            "\u001b[0;31m---------------------------------------------------------------------------\u001b[0m",
            "\u001b[0;31mKeyboardInterrupt\u001b[0m                         Traceback (most recent call last)",
            "\u001b[0;32m<ipython-input-17-05ae37366a71>\u001b[0m in \u001b[0;36m<cell line: 2>\u001b[0;34m()\u001b[0m\n\u001b[1;32m     15\u001b[0m     \u001b[0mprint\u001b[0m\u001b[0;34m(\u001b[0m\u001b[0;34m*\u001b[0m\u001b[0mdela\u001b[0m\u001b[0;34m)\u001b[0m\u001b[0;34m\u001b[0m\u001b[0;34m\u001b[0m\u001b[0m\n\u001b[1;32m     16\u001b[0m     \u001b[0mprint\u001b[0m\u001b[0;34m(\u001b[0m\u001b[0;34m'желаете очистить список дел?'\u001b[0m\u001b[0;34m)\u001b[0m\u001b[0;34m\u001b[0m\u001b[0;34m\u001b[0m\u001b[0m\n\u001b[0;32m---> 17\u001b[0;31m     \u001b[0;32mif\u001b[0m \u001b[0minput\u001b[0m\u001b[0;34m(\u001b[0m\u001b[0;34m)\u001b[0m\u001b[0;34m==\u001b[0m\u001b[0;34m'да'\u001b[0m\u001b[0;34m:\u001b[0m\u001b[0;34m\u001b[0m\u001b[0;34m\u001b[0m\u001b[0m\n\u001b[0m\u001b[1;32m     18\u001b[0m       \u001b[0mdela\u001b[0m\u001b[0;34m=\u001b[0m\u001b[0;34m[\u001b[0m\u001b[0;34m]\u001b[0m\u001b[0;34m\u001b[0m\u001b[0;34m\u001b[0m\u001b[0m\n\u001b[1;32m     19\u001b[0m     \u001b[0mprint\u001b[0m\u001b[0;34m(\u001b[0m\u001b[0;34m'Желаете добавить новое?'\u001b[0m\u001b[0;34m)\u001b[0m\u001b[0;34m\u001b[0m\u001b[0;34m\u001b[0m\u001b[0m\n",
            "\u001b[0;32m/usr/local/lib/python3.10/dist-packages/ipykernel/kernelbase.py\u001b[0m in \u001b[0;36mraw_input\u001b[0;34m(self, prompt)\u001b[0m\n\u001b[1;32m    849\u001b[0m                 \u001b[0;34m\"raw_input was called, but this frontend does not support input requests.\"\u001b[0m\u001b[0;34m\u001b[0m\u001b[0;34m\u001b[0m\u001b[0m\n\u001b[1;32m    850\u001b[0m             )\n\u001b[0;32m--> 851\u001b[0;31m         return self._input_request(str(prompt),\n\u001b[0m\u001b[1;32m    852\u001b[0m             \u001b[0mself\u001b[0m\u001b[0;34m.\u001b[0m\u001b[0m_parent_ident\u001b[0m\u001b[0;34m,\u001b[0m\u001b[0;34m\u001b[0m\u001b[0;34m\u001b[0m\u001b[0m\n\u001b[1;32m    853\u001b[0m             \u001b[0mself\u001b[0m\u001b[0;34m.\u001b[0m\u001b[0m_parent_header\u001b[0m\u001b[0;34m,\u001b[0m\u001b[0;34m\u001b[0m\u001b[0;34m\u001b[0m\u001b[0m\n",
            "\u001b[0;32m/usr/local/lib/python3.10/dist-packages/ipykernel/kernelbase.py\u001b[0m in \u001b[0;36m_input_request\u001b[0;34m(self, prompt, ident, parent, password)\u001b[0m\n\u001b[1;32m    893\u001b[0m             \u001b[0;32mexcept\u001b[0m \u001b[0mKeyboardInterrupt\u001b[0m\u001b[0;34m:\u001b[0m\u001b[0;34m\u001b[0m\u001b[0;34m\u001b[0m\u001b[0m\n\u001b[1;32m    894\u001b[0m                 \u001b[0;31m# re-raise KeyboardInterrupt, to truncate traceback\u001b[0m\u001b[0;34m\u001b[0m\u001b[0;34m\u001b[0m\u001b[0m\n\u001b[0;32m--> 895\u001b[0;31m                 \u001b[0;32mraise\u001b[0m \u001b[0mKeyboardInterrupt\u001b[0m\u001b[0;34m(\u001b[0m\u001b[0;34m\"Interrupted by user\"\u001b[0m\u001b[0;34m)\u001b[0m \u001b[0;32mfrom\u001b[0m \u001b[0;32mNone\u001b[0m\u001b[0;34m\u001b[0m\u001b[0;34m\u001b[0m\u001b[0m\n\u001b[0m\u001b[1;32m    896\u001b[0m             \u001b[0;32mexcept\u001b[0m \u001b[0mException\u001b[0m \u001b[0;32mas\u001b[0m \u001b[0me\u001b[0m\u001b[0;34m:\u001b[0m\u001b[0;34m\u001b[0m\u001b[0;34m\u001b[0m\u001b[0m\n\u001b[1;32m    897\u001b[0m                 \u001b[0mself\u001b[0m\u001b[0;34m.\u001b[0m\u001b[0mlog\u001b[0m\u001b[0;34m.\u001b[0m\u001b[0mwarning\u001b[0m\u001b[0;34m(\u001b[0m\u001b[0;34m\"Invalid Message:\"\u001b[0m\u001b[0;34m,\u001b[0m \u001b[0mexc_info\u001b[0m\u001b[0;34m=\u001b[0m\u001b[0;32mTrue\u001b[0m\u001b[0;34m)\u001b[0m\u001b[0;34m\u001b[0m\u001b[0;34m\u001b[0m\u001b[0m\n",
            "\u001b[0;31mKeyboardInterrupt\u001b[0m: Interrupted by user"
          ]
        }
      ]
    },
    {
      "cell_type": "markdown",
      "source": [
        "# **Задача 4.**\n"
      ],
      "metadata": {
        "id": "PHXBfyc6Ko7D"
      }
    },
    {
      "cell_type": "markdown",
      "source": [
        "Камень, ножницы, бумага\n",
        "\n",
        "Создайте игру в Камень, ножницы, бумагу, в которой пользователь может играть против компьютера. Программа должна запросить выбор пользователя, а затем сгенерировать выбор компьютера. Затем программа должна определить победителя на основе правил игры.\n",
        "\n",
        "**Этап 1:**\n",
        "\n",
        "Определение победителя\n",
        "\n",
        "**Этап 2:**\n",
        "  \n",
        "Игра до 3 побед\n",
        "\n",
        "\n",
        "Ввод для \"Этап 1\":\n",
        "\n",
        "```\n",
        "Камень\n",
        "```\n",
        "\n",
        "Вывод:\n",
        "\n",
        "```\n",
        "Компьютер: Ножницы\n",
        "Игрок: Камень\n",
        "Победа: Игрок\n",
        "```"
      ],
      "metadata": {
        "id": "jnKWeYleI0j6"
      }
    },
    {
      "cell_type": "code",
      "source": [
        "p=0\n",
        "for i in range(3):\n",
        "  loh=input()\n",
        "  if loh=='Камень':\n",
        "    god='Бумага'\n",
        "  elif loh=='Ножницы':\n",
        "    god='Камень'\n",
        "  else:\n",
        "    god='Ножницы'\n",
        "  print('Игрок: ', loh)\n",
        "  print('Компутер: ', god)\n",
        "  print('Победа: Компутер')\n",
        "  i+=1\n",
        "print('Win computer')"
      ],
      "metadata": {
        "id": "ooIPCRe_JHkX",
        "colab": {
          "base_uri": "https://localhost:8080/"
        },
        "outputId": "422db01b-e682-487a-ad76-763a78de4e14"
      },
      "execution_count": null,
      "outputs": [
        {
          "output_type": "stream",
          "name": "stdout",
          "text": [
            "Камень\n",
            "Игрок:  Камень\n",
            "Компутер:  Бумага\n",
            "Победа: Компутер\n"
          ]
        }
      ]
    },
    {
      "cell_type": "markdown",
      "source": [
        "# **Задача 5.**"
      ],
      "metadata": {
        "id": "Hg4FJNFbLHQO"
      }
    },
    {
      "cell_type": "markdown",
      "source": [
        "Создайте игру \"Палач\" или \"Виселица\", в которой пользователь должен угадать слово, предлагая буквы. Программа должна выбрать случайное слово, а затем разрешить пользователю угадывать буквы. После каждого угадывания программа должна сообщать пользователю, есть ли в слове буква или нет.\n",
        "\n",
        "**Этап 1**\n",
        "Создать саму игру (игра должна иметь привлекательный интерфейс, соотвесвующий классической висилице)\n",
        "\n",
        "**Этап 2:**\n",
        "Ввести подсчет количества очков и ограничения на попытки\n",
        "\n",
        "**Этап 3:** Добавить возможность сразу угадать слово"
      ],
      "metadata": {
        "id": "OHqj3HJuLJgY"
      }
    },
    {
      "cell_type": "code",
      "source": [
        "import random\n",
        "s=['ябеда','домик','почта','номер','игорь','пирог','венок','ворон']\n",
        "a=0\n",
        "a=input('Введите 1 чтобы начать игру: ')\n",
        "while a!='1':\n",
        "  a=input('Я СКАЗАЛ ВВЕДИ 1: ')\n",
        "w=random.choice(s)\n",
        "i=len(w)\n",
        "l=len(w)\n",
        "p=10\n",
        "ug=[]\n",
        "print('В слове',i,'букв')\n",
        "print('_'*i)\n",
        "while i>0 and p>0:\n",
        "  ugad=input('Введите букву: ')\n",
        "  i-=w.count(ugad)\n",
        "  p-=1\n",
        "  ug+=ugad\n",
        "  print('Осталось угадать ',i, ' букв')\n",
        "  print('Попыток осталось: ',p)\n",
        "  for k in range(l):\n",
        "    if w[k] in ug:\n",
        "      print(w[k],end=' ')\n",
        "    else:\n",
        "      print('_',end=' ')\n",
        "  print('')\n",
        "if i==0:\n",
        "  print('Поздравляю вы угадали, слово было: ',w)\n",
        "else:\n",
        "  print('Не поздравляю вы не угадали, слово было: ',w)\n",
        "\n"
      ],
      "metadata": {
        "id": "0N2zCYwVLiIw",
        "colab": {
          "base_uri": "https://localhost:8080/"
        },
        "outputId": "13c660c3-ae11-48fc-fb2d-08e88e394892"
      },
      "execution_count": null,
      "outputs": [
        {
          "output_type": "stream",
          "name": "stdout",
          "text": [
            "Введите 1 чтобы начать игру: 1\n",
            "В слове 5 букв\n",
            "_____\n",
            "Введите букву: о\n",
            "Осталось угадать  5  букв\n",
            "Попыток осталось:  9\n",
            "_ _ _ _ _ \n",
            "Введите букву: я\n",
            "Осталось угадать  4  букв\n",
            "Попыток осталось:  8\n",
            "я _ _ _ _ \n",
            "Введите букву: б\n",
            "Осталось угадать  3  букв\n",
            "Попыток осталось:  7\n",
            "я б _ _ _ \n",
            "Введите букву: е\n",
            "Осталось угадать  2  букв\n",
            "Попыток осталось:  6\n",
            "я б е _ _ \n",
            "Введите букву: д\n",
            "Осталось угадать  1  букв\n",
            "Попыток осталось:  5\n",
            "я б е д _ \n",
            "Введите букву: а\n",
            "Осталось угадать  0  букв\n",
            "Попыток осталось:  4\n",
            "я б е д а \n",
            "Поздравляю вы угадали, слово было:  ябеда\n"
          ]
        }
      ]
    },
    {
      "cell_type": "markdown",
      "source": [
        "# **Дополнительно: Задача 6.**\n"
      ],
      "metadata": {
        "id": "w0x3QFGzKtDD"
      }
    },
    {
      "cell_type": "markdown",
      "source": [
        "\n",
        "**Цифра на определенном месте:**\n",
        "\n",
        "Последовательно записан натуральный ряд чисел.\n",
        "\n",
        "Какая цифра стоит в N позиции\n",
        "\n",
        "\n",
        "Вввод:\n",
        "\n",
        "```\n",
        "Введите номер позиции: 1234567890\n",
        "```\n",
        "\n",
        "Вывод:\n",
        "\n",
        "```\n",
        "8\n",
        "```"
      ],
      "metadata": {
        "id": "QqZArcpHJxVj"
      }
    },
    {
      "cell_type": "code",
      "source": [
        "p=int(input('Введите номер позиции:'))\n",
        "s=0\n",
        "k=0\n",
        "j=1\n",
        "ch=0\n",
        "while s<p:\n",
        "  for i in range(9*10**k):\n",
        "    s+=j\n",
        "    ch+=1\n",
        "    if s>=p:\n",
        "      break\n",
        "  j+=1\n",
        "  k+=1\n",
        "print(k,j,s,ch)\n",
        "print(str(ch)[s-p-1]) # answer (тут находит примерно за 45 сек, на моем пк за 15 сек)\n",
        "#УРАААААААААААААААААААААААААААААААААААААААААААААААААААААААААААААААААААААААААААААААА\n"
      ],
      "metadata": {
        "id": "LwjYwBGcKiJ9",
        "colab": {
          "base_uri": "https://localhost:8080/"
        },
        "outputId": "8b981e72-812b-4a90-b6b1-abc7954c30c1"
      },
      "execution_count": null,
      "outputs": [
        {
          "output_type": "stream",
          "name": "stdout",
          "text": [
            "Введите номер позиции:1234567890\n",
            "9 10 1234567890 149519888\n",
            "8\n"
          ]
        }
      ]
    },
    {
      "cell_type": "code",
      "source": [
        "1"
      ],
      "metadata": {
        "id": "yhZ7I-0WMUzK"
      },
      "execution_count": null,
      "outputs": []
    }
  ]
}
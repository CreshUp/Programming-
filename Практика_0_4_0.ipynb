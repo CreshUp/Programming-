{
  "nbformat": 4,
  "nbformat_minor": 0,
  "metadata": {
    "colab": {
      "provenance": [],
      "toc_visible": true,
      "include_colab_link": true
    },
    "kernelspec": {
      "name": "python3",
      "display_name": "Python 3"
    },
    "language_info": {
      "name": "python"
    }
  },
  "cells": [
    {
      "cell_type": "markdown",
      "metadata": {
        "id": "view-in-github",
        "colab_type": "text"
      },
      "source": [
        "<a href=\"https://colab.research.google.com/github/CreshUp/Programming-/blob/main/%D0%9F%D1%80%D0%B0%D0%BA%D1%82%D0%B8%D0%BA%D0%B0_0_4_0.ipynb\" target=\"_parent\"><img src=\"https://colab.research.google.com/assets/colab-badge.svg\" alt=\"Open In Colab\"/></a>"
      ]
    },
    {
      "cell_type": "markdown",
      "source": [
        "Введите ваше ФИО:"
      ],
      "metadata": {
        "id": "k8oVfdwrMXyc"
      }
    },
    {
      "cell_type": "code",
      "execution_count": null,
      "metadata": {
        "id": "5mcBLsKMI1-5"
      },
      "outputs": [],
      "source": [
        "Плескачёв Дмтрий Александрович"
      ]
    },
    {
      "cell_type": "markdown",
      "source": [
        "***Дисклеймер***\n",
        "\n",
        "В данной практике запрещено использования функций:\n",
        "\n",
        "\n",
        "*   sum()\n",
        "*   min()\n",
        "*   max()\n",
        "*   average()\n",
        "*   reversed()\n",
        "*   sorted()\n",
        "*   готовые функции или библиотеки\n"
      ],
      "metadata": {
        "id": "8HbYUbm3Jw3o"
      }
    },
    {
      "cell_type": "markdown",
      "source": [
        "\n",
        "**Задача 1:**\n",
        "\n",
        "\n",
        "\n",
        "Интернет-магазин предлагает следующие условия скидок:\n",
        "\n",
        "*   Для заказов больше 1000 единиц, клиент получает скидку 5%. Если клиент использует промокод SUPERDISCOUNT, он получает скидку 10% (вместо 5%).\n",
        "*  Для заказов более 5000 единиц, клиент получает скидку 15%, а использование промокода SUPERDISCOUNT увеличивает скидку до 20% (вместо 15%).\n",
        "\n",
        "Этап 1:\n",
        "Ввод:\n",
        "```\n",
        "Введите стоимость единицы товара: 5\n",
        "Введите количество товара: 1001\n",
        "Введите промокод: GiVEMEDISCONT\n",
        "```\n",
        "\n",
        "Вывод:\n",
        "\n",
        "```\n",
        "Ваша скидка: 5%\n",
        "Итоговая сумма: 4754.75\n",
        "```\n",
        "Этап 2:\n",
        "\n",
        "Оформите ваш код в виде функции"
      ],
      "metadata": {
        "id": "HmX0c6YPJSQr"
      }
    },
    {
      "cell_type": "code",
      "source": [
        "price=int(input('Введите стоимость единицы товара:'))\n",
        "amount=int(input('Введите количество товара:'))\n",
        "promocode=input('Введите промокод:')\n",
        "total_price=0\n",
        "for tovar in range(amount):\n",
        "  total_price+=price\n",
        "if promocode=='SUPERDISCOUNT' and amount>5000:\n",
        "  total_price*=0.8\n",
        "  print('Ваша скидка: 20%')\n",
        "elif amount>5000:\n",
        "  total_price*=0.85\n",
        "  print('Ваша скидка: 15%')\n",
        "elif promocode=='SUPERDISCOUNT' and amount>1000:\n",
        "  total_price*=0.9\n",
        "  print('Ваша скидка: 10%')\n",
        "elif amount>1000:\n",
        "  total_price*=0.95\n",
        "  print('Ваша скидка: 5%')\n",
        "else:\n",
        "  total_price=total_price\n",
        "  print('Ваша скидка: 0%')\n",
        "print('Итоговая сумма: ',total_price)\n"
      ],
      "metadata": {
        "id": "OAIMIpklMN5D",
        "colab": {
          "base_uri": "https://localhost:8080/"
        },
        "outputId": "fac78141-27df-482d-9bfe-151765e80381"
      },
      "execution_count": null,
      "outputs": [
        {
          "output_type": "stream",
          "name": "stdout",
          "text": [
            "Введите стоимость единицы товара:5\n",
            "Введите количество товара:1000\n",
            "Введите промокод:SUPERDISCOUNT\n",
            "Ваша скидка: 0%\n",
            "Итоговая сумма:  5000\n"
          ]
        }
      ]
    },
    {
      "cell_type": "markdown",
      "source": [
        "**Задача 2:**\n",
        "\n",
        "Этап 1:\n",
        "Напишите программу способную отфильтровать список и вывести только положительные элементы\n",
        "\n",
        "\n",
        "Ввод:\n",
        "```\n",
        "-1 5 1 2 -3\n",
        "```\n",
        "\n",
        "Вывод:\n",
        "\n",
        "```\n",
        "5 1 2\n",
        "```\n",
        "\n",
        "Этап 2:\n",
        "\n",
        "Оформите ваш код в виде функции"
      ],
      "metadata": {
        "id": "eeRVWpuLNGJ0"
      }
    },
    {
      "cell_type": "code",
      "source": [
        "not_sort=list(input().split())\n",
        "for num in not_sort:\n",
        "  if int(num)>0:\n",
        "    print(num, end=' ')"
      ],
      "metadata": {
        "id": "Xbi6bL0WOE9N",
        "colab": {
          "base_uri": "https://localhost:8080/"
        },
        "outputId": "741e3d7a-d1da-4815-f51a-1859c3e61c0f"
      },
      "execution_count": null,
      "outputs": [
        {
          "output_type": "stream",
          "name": "stdout",
          "text": [
            "1 2 -7 6 4 0 -1\n",
            "1 2 6 4 "
          ]
        }
      ]
    },
    {
      "cell_type": "markdown",
      "source": [
        "**Задача 3:**\n",
        "\n",
        "Этап 1:\n",
        "Напишите программу реализующую Алгоритм Евклида\n",
        "\n",
        "\n",
        "> Алгоритм Евклида – это алгоритм нахождения наибольшего общего делителя (НОД) пары целых чисел.\n",
        "\n",
        "\n",
        "\n",
        "Ввод:\n",
        "```\n",
        "30 18\n",
        "```\n",
        "\n",
        "Вывод:\n",
        "\n",
        "```\n",
        "6\n",
        "```\n",
        "\n",
        "Этап 2:\n",
        "Оформите ваш код в виде функции\n"
      ],
      "metadata": {
        "id": "lV-w6G-POa6F"
      }
    },
    {
      "cell_type": "code",
      "source": [
        "\n",
        "\n",
        "def nod(max1,min1):\n",
        "  for i in range(min1,0,-1):\n",
        "    if min1%i==0 and max1%i==0:\n",
        "      real_nod=i\n",
        "      break\n",
        "  return real_nod\n",
        "\n",
        "\n",
        "a,b=input().split()\n",
        "a=int(a)\n",
        "b=int(b)\n",
        "if a>b:\n",
        "  maxim=a\n",
        "  minim=b\n",
        "else:\n",
        "  minim=a\n",
        "  maxim=b\n",
        "print(nod(maxim,minim))"
      ],
      "metadata": {
        "id": "X2n6fnd91yt7",
        "colab": {
          "base_uri": "https://localhost:8080/"
        },
        "outputId": "09914965-e18a-4552-bf41-5e7590ada261"
      },
      "execution_count": null,
      "outputs": [
        {
          "output_type": "stream",
          "name": "stdout",
          "text": [
            "32 121\n",
            "1\n"
          ]
        }
      ]
    },
    {
      "cell_type": "code",
      "source": [
        "print('plesk10001a'[5:])"
      ],
      "metadata": {
        "id": "43Dl5tIpOZsu",
        "colab": {
          "base_uri": "https://localhost:8080/"
        },
        "outputId": "fe1f040e-8f37-4ea4-a81c-b1539167f576"
      },
      "execution_count": null,
      "outputs": [
        {
          "output_type": "stream",
          "name": "stdout",
          "text": [
            "10001a\n"
          ]
        }
      ]
    },
    {
      "cell_type": "markdown",
      "source": [
        "**Задача 4:**\n",
        "\n",
        "Этап 1:\n",
        "Напишите функцию программу, которая принимает строку и возвращает список слов и количество их упомнинаний в предложении\n",
        "\n",
        "Этап 2:\n",
        "Оформите ваш код в виде функции\n",
        "\n",
        "Ввод:\n",
        "```\n",
        "apple banana apple\n",
        "```\n",
        "\n",
        "Вывод:\n",
        "\n",
        "```\n",
        "apple: 2,\n",
        "banana: 1\n",
        "```"
      ],
      "metadata": {
        "id": "WIfPFxpsO0zL"
      }
    },
    {
      "cell_type": "code",
      "source": [
        "\n",
        "def count_words(where,what):\n",
        "  count=0\n",
        "  for word in where:\n",
        "    if what == word:\n",
        "      count+=1\n",
        "  return count\n",
        "\n",
        "\n",
        "words=list(input().split())\n",
        "set_words=[]\n",
        "\n",
        "for word in words:\n",
        "  if word not in set_words:\n",
        "    set_words.append(word)\n",
        "\n",
        "word=''\n",
        "for i in range(len(set_words)):\n",
        "  word=set_words.pop()\n",
        "  print(word,':',count_words(words,word))\n",
        "print('усё')\n"
      ],
      "metadata": {
        "id": "DgsmFeW5Po_x",
        "colab": {
          "base_uri": "https://localhost:8080/"
        },
        "outputId": "30440a47-7f72-4c91-81a0-7226b31fa553"
      },
      "execution_count": null,
      "outputs": [
        {
          "output_type": "stream",
          "name": "stdout",
          "text": [
            "apple banana apple\n",
            "banana : 1\n",
            "apple : 2\n",
            "усё\n"
          ]
        }
      ]
    },
    {
      "cell_type": "markdown",
      "source": [
        "**Задача 5:**\n",
        "\n",
        "Этап 1:\n",
        "Детектор анаграмм Напишите программу на Python, которая принимает в качестве входных данных две строки и проверяет, являются ли они анаграммами друг друга\n",
        "\n",
        "Этап 2:\n",
        "Оформите ваш код в виде функции\n",
        "\n",
        "Ввод:\n",
        "```\n",
        "listen, silent\n",
        "```\n",
        "\n",
        "Вывод:\n",
        "\n",
        "```\n",
        "True\n",
        "```"
      ],
      "metadata": {
        "id": "5BmIJLUZP9I-"
      }
    },
    {
      "cell_type": "code",
      "source": [
        "def is_anagramma(w1, w2):\n",
        "  if len(w1)!=len(w2):\n",
        "    return 'False'\n",
        "  for letter in w1:\n",
        "    if letter not in w2:\n",
        "      return 'False'\n",
        "  return 'True'\n",
        "\n",
        "\n",
        "word1, word2=input().split(', ')\n",
        "print(is_anagramma(word1,word2))"
      ],
      "metadata": {
        "id": "7LNW8DuHQJwH",
        "colab": {
          "base_uri": "https://localhost:8080/"
        },
        "outputId": "b0ae4edb-0d2c-433a-c192-91ff7fe07a20"
      },
      "execution_count": null,
      "outputs": [
        {
          "output_type": "stream",
          "name": "stdout",
          "text": [
            "сус, vvv\n",
            "False\n"
          ]
        }
      ]
    },
    {
      "cell_type": "markdown",
      "source": [
        "**Задача 6:**\n",
        "\n",
        "Шифр ​​Цезаря\n",
        "\n",
        "Напишите программу на Python, которая реализует шифр Цезаря, простой метод шифрования, который заменяет каждую букву буквой на фиксированное количество позиций вниз по алфавиту. Программа должна запрашивать у пользователя сообщение и значение сдвига, а затем шифровать и расшифровывать сообщение.\n",
        "\n",
        "Этап 1:\n",
        "\n",
        "Напишите код для реализации данной задачи\n",
        "\n",
        "Этап 2:\n",
        "\n",
        "Оформите код в виде нескольких функций:\n",
        "\n",
        "* Зашифровывает сообщение\n",
        "* Расшифровывает сообщение"
      ],
      "metadata": {
        "id": "-SIWYSq2QKBh"
      }
    },
    {
      "cell_type": "code",
      "source": [
        "\n",
        "\n",
        "def is_ciphered(word,lenght):\n",
        "  ciphered_word=''\n",
        "\n",
        "  for letter in word:\n",
        "    for i in range(26):\n",
        "      if alphabet[i]==letter:\n",
        "        need=i\n",
        "    ciphered_word+=alphabet[(need+lenght)%26]\n",
        "  return ciphered_word\n",
        "\n",
        "def is_deciphered(word, lenght):\n",
        "  deciphered_word=''\n",
        "\n",
        "  for letter in word:\n",
        "    for i in range(26):\n",
        "      if alphabet[i]==letter:\n",
        "        need=i\n",
        "    deciphered_word+=alphabet[(need-lenght)%26]\n",
        "  return deciphered_word\n",
        "\n",
        "\n",
        "\n",
        "\n",
        "\n",
        "alphabet=['a', 'b', 'c', 'd', 'e', 'f', 'g', 'h', 'i', 'j', 'k', 'l', 'm', 'n', 'o', 'p', 'q', 'r', 's', 't', 'u', 'v', 'w', 'x', 'y', 'z'] #sorry for lenght\n",
        "word=input('Word is ')\n",
        "sdvig=int(input('Sdvig is '))\n",
        "print('Is ciphered:', is_ciphered(word,sdvig))\n",
        "ciphered_word=is_ciphered(word,sdvig)\n",
        "print('Is deciphered:',is_deciphered(ciphered_word,sdvig))"
      ],
      "metadata": {
        "id": "anThYirsQe6N",
        "colab": {
          "base_uri": "https://localhost:8080/"
        },
        "outputId": "a9f879b0-6094-48d9-8dff-fe0d6c70c95f"
      },
      "execution_count": null,
      "outputs": [
        {
          "output_type": "stream",
          "name": "stdout",
          "text": [
            "Word is fkhxg\n",
            "Sdvig is 32\n",
            "Is ciphered: lqndm\n",
            "Is deciphered: zebra\n"
          ]
        }
      ]
    },
    {
      "cell_type": "markdown",
      "source": [
        "**Задача 7**\n",
        "\n",
        "Задача: «Банковская система»\n",
        "\n",
        "Создайте программу Python, которая имитирует базовую банковскую систему. Система должна иметь следующие функции:\n",
        "\n",
        "Требования\n",
        "*   Система должна позволять клиентам создавать счета и хранить их балансы.\n",
        "*   Система должна позволять клиентам вносить и снимать деньги со своих счетов.\n",
        "*   Система должна позволять клиентам проверять свой текущий баланс.\n",
        "*   Система должна позволять клиентам переводить деньги между счетами.\n",
        "*   Система должна отслеживать транзакции (депозиты, снятия и переводы) и иметь возможность печатать детали транзакций.\n",
        "\n",
        "\n",
        "Задачи\n",
        "1. Реализуйте банковскую систему, используя только базовые конструкции Python, такие как def, lists, if, elif и else, без классов или словарей.\n",
        "Определите функции для создания счетов, внесения и снятия денег, получения балансов счетов, перевода денег между счетами, а также создания и печати транзакций.\n",
        "2. Напишите основную функцию, которая демонстрирует использование банковской системы путем создания счетов, внесения и снятия денег и перевода денег между счетами.\n",
        "3. Бонусное задание\n",
        "Реализуйте способ хранения и печати истории транзакций для каждого счета.\n",
        "\n",
        "Ограничения\n",
        "Не используйте классы или словари.\n",
        "Используйте только базовые конструкции Python, такие как def, lists, if, elif и else.\n"
      ],
      "metadata": {
        "id": "avFZRRXrQz9O"
      }
    },
    {
      "cell_type": "code",
      "source": [
        "def find_balance(clients_cards, passw):\n",
        "  c=0\n",
        "  for cards in clients_cards:\n",
        "    if passw in cards:\n",
        "      a,balance=cards.split()\n",
        "      return balance,c\n",
        "    else:\n",
        "      c+=1\n",
        "\n",
        "\n",
        "def find_person(clients_base,ID):\n",
        "  for base in clients_base:\n",
        "    if ID in base:\n",
        "      return base[5:]\n",
        "\n",
        "\n",
        "clients_base=['Plesk10001a','Kolya20222a']\n",
        "clients_cards=['20222a 474582','10001a 7538738']\n",
        "while True:\n",
        "  client=input('Your ID: ')\n",
        "  password=input('Enter your password: ')\n",
        "  code=client+password\n",
        "  if code in clients_base:\n",
        "    balance,count=find_balance(clients_cards,password)\n",
        "    print('Your balance is ', balance)\n",
        "    print('1 - add cash')\n",
        "    print('2 - earn cash')\n",
        "    print('3 - give someone money')\n",
        "    next_move=input('What are you wanna do?: ')\n",
        "    nm=input('Are you sure(reenter number)? ')\n",
        "    if next_move==nm:\n",
        "      if nm=='1':\n",
        "        cash=int(input('How much you wanna add?'))\n",
        "        balance_int=int(balance)\n",
        "        new_bal=balance_int+cash\n",
        "        clients_cards[count]==password+' '+str(new_bal)\n",
        "        print('New balance is ',new_bal)\n",
        "      elif nm=='2':\n",
        "        cash=int(input('How much cash you want?'))\n",
        "        balance_int=int(balance)\n",
        "        new_bal=balance_int-cash\n",
        "        clients_cards[count]==password+' '+str(new_bal)\n",
        "        print('New balance is',new_bal)\n",
        "      elif nm=='3':\n",
        "        person=input('To whom you want to give money(ID): ')\n",
        "        person_check=input('reenter the same ID: ')\n",
        "        if person==person_check:\n",
        "          cash=int(input('How much?: '))\n",
        "          balance2,count2=find_balance(clients_cards,find_person(clients_base,person))\n",
        "          new_bal2=int(balance2)+cash\n",
        "          new_bal1=int(balance)-cash\n",
        "          clients_cards[count]==password+' '+str(new_bal1)\n",
        "          print('Your new balance is',new_bal1)\n",
        "          clients_cards[count2]==password+' '+str(new_bal2)\n",
        "\n"
      ],
      "metadata": {
        "id": "dWEW10zIRwjs",
        "colab": {
          "base_uri": "https://localhost:8080/",
          "height": 539
        },
        "outputId": "6310f259-3e1d-4e74-a13e-81fb9a95d91f"
      },
      "execution_count": null,
      "outputs": [
        {
          "output_type": "stream",
          "name": "stdout",
          "text": [
            "Who are you?: Plesk\n",
            "Enter your password: 1000a\n",
            "Your balance is  7538738\n",
            "1 - add cash\n",
            "2 - earn cash\n",
            "3 - give someone money\n",
            "What are you wanna do?: 2\n",
            "Are you sure(reenter number)?2\n",
            "How much cash you want?1000\n",
            "New balance is  7537738\n"
          ]
        },
        {
          "output_type": "error",
          "ename": "KeyboardInterrupt",
          "evalue": "Interrupted by user",
          "traceback": [
            "\u001b[0;31m---------------------------------------------------------------------------\u001b[0m",
            "\u001b[0;31mKeyboardInterrupt\u001b[0m                         Traceback (most recent call last)",
            "\u001b[0;32m<ipython-input-48-0286caec2018>\u001b[0m in \u001b[0;36m<cell line: 14>\u001b[0;34m()\u001b[0m\n\u001b[1;32m     13\u001b[0m \u001b[0mclients_cards\u001b[0m\u001b[0;34m=\u001b[0m\u001b[0;34m[\u001b[0m\u001b[0;34m'2022a 474582'\u001b[0m\u001b[0;34m,\u001b[0m\u001b[0;34m'1000a 7538738'\u001b[0m\u001b[0;34m]\u001b[0m\u001b[0;34m\u001b[0m\u001b[0;34m\u001b[0m\u001b[0m\n\u001b[1;32m     14\u001b[0m \u001b[0;32mwhile\u001b[0m \u001b[0;32mTrue\u001b[0m\u001b[0;34m:\u001b[0m\u001b[0;34m\u001b[0m\u001b[0;34m\u001b[0m\u001b[0m\n\u001b[0;32m---> 15\u001b[0;31m   \u001b[0mclient\u001b[0m\u001b[0;34m=\u001b[0m\u001b[0minput\u001b[0m\u001b[0;34m(\u001b[0m\u001b[0;34m'Who are you?: '\u001b[0m\u001b[0;34m)\u001b[0m\u001b[0;34m\u001b[0m\u001b[0;34m\u001b[0m\u001b[0m\n\u001b[0m\u001b[1;32m     16\u001b[0m   \u001b[0mpassword\u001b[0m\u001b[0;34m=\u001b[0m\u001b[0minput\u001b[0m\u001b[0;34m(\u001b[0m\u001b[0;34m'Enter your password: '\u001b[0m\u001b[0;34m)\u001b[0m\u001b[0;34m\u001b[0m\u001b[0;34m\u001b[0m\u001b[0m\n\u001b[1;32m     17\u001b[0m   \u001b[0mcode\u001b[0m\u001b[0;34m=\u001b[0m\u001b[0mclient\u001b[0m\u001b[0;34m+\u001b[0m\u001b[0mpassword\u001b[0m\u001b[0;34m\u001b[0m\u001b[0;34m\u001b[0m\u001b[0m\n",
            "\u001b[0;32m/usr/local/lib/python3.10/dist-packages/ipykernel/kernelbase.py\u001b[0m in \u001b[0;36mraw_input\u001b[0;34m(self, prompt)\u001b[0m\n\u001b[1;32m    849\u001b[0m                 \u001b[0;34m\"raw_input was called, but this frontend does not support input requests.\"\u001b[0m\u001b[0;34m\u001b[0m\u001b[0;34m\u001b[0m\u001b[0m\n\u001b[1;32m    850\u001b[0m             )\n\u001b[0;32m--> 851\u001b[0;31m         return self._input_request(str(prompt),\n\u001b[0m\u001b[1;32m    852\u001b[0m             \u001b[0mself\u001b[0m\u001b[0;34m.\u001b[0m\u001b[0m_parent_ident\u001b[0m\u001b[0;34m,\u001b[0m\u001b[0;34m\u001b[0m\u001b[0;34m\u001b[0m\u001b[0m\n\u001b[1;32m    853\u001b[0m             \u001b[0mself\u001b[0m\u001b[0;34m.\u001b[0m\u001b[0m_parent_header\u001b[0m\u001b[0;34m,\u001b[0m\u001b[0;34m\u001b[0m\u001b[0;34m\u001b[0m\u001b[0m\n",
            "\u001b[0;32m/usr/local/lib/python3.10/dist-packages/ipykernel/kernelbase.py\u001b[0m in \u001b[0;36m_input_request\u001b[0;34m(self, prompt, ident, parent, password)\u001b[0m\n\u001b[1;32m    893\u001b[0m             \u001b[0;32mexcept\u001b[0m \u001b[0mKeyboardInterrupt\u001b[0m\u001b[0;34m:\u001b[0m\u001b[0;34m\u001b[0m\u001b[0;34m\u001b[0m\u001b[0m\n\u001b[1;32m    894\u001b[0m                 \u001b[0;31m# re-raise KeyboardInterrupt, to truncate traceback\u001b[0m\u001b[0;34m\u001b[0m\u001b[0;34m\u001b[0m\u001b[0m\n\u001b[0;32m--> 895\u001b[0;31m                 \u001b[0;32mraise\u001b[0m \u001b[0mKeyboardInterrupt\u001b[0m\u001b[0;34m(\u001b[0m\u001b[0;34m\"Interrupted by user\"\u001b[0m\u001b[0;34m)\u001b[0m \u001b[0;32mfrom\u001b[0m \u001b[0;32mNone\u001b[0m\u001b[0;34m\u001b[0m\u001b[0;34m\u001b[0m\u001b[0m\n\u001b[0m\u001b[1;32m    896\u001b[0m             \u001b[0;32mexcept\u001b[0m \u001b[0mException\u001b[0m \u001b[0;32mas\u001b[0m \u001b[0me\u001b[0m\u001b[0;34m:\u001b[0m\u001b[0;34m\u001b[0m\u001b[0;34m\u001b[0m\u001b[0m\n\u001b[1;32m    897\u001b[0m                 \u001b[0mself\u001b[0m\u001b[0;34m.\u001b[0m\u001b[0mlog\u001b[0m\u001b[0;34m.\u001b[0m\u001b[0mwarning\u001b[0m\u001b[0;34m(\u001b[0m\u001b[0;34m\"Invalid Message:\"\u001b[0m\u001b[0;34m,\u001b[0m \u001b[0mexc_info\u001b[0m\u001b[0;34m=\u001b[0m\u001b[0;32mTrue\u001b[0m\u001b[0;34m)\u001b[0m\u001b[0;34m\u001b[0m\u001b[0;34m\u001b[0m\u001b[0m\n",
            "\u001b[0;31mKeyboardInterrupt\u001b[0m: Interrupted by user"
          ]
        }
      ]
    }
  ]
}
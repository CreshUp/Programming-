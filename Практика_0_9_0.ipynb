{
  "nbformat": 4,
  "nbformat_minor": 0,
  "metadata": {
    "colab": {
      "provenance": [],
      "collapsed_sections": [
        "SVWNlBALpCNo"
      ],
      "include_colab_link": true
    },
    "kernelspec": {
      "name": "python3",
      "display_name": "Python 3"
    },
    "language_info": {
      "name": "python"
    }
  },
  "cells": [
    {
      "cell_type": "markdown",
      "metadata": {
        "id": "view-in-github",
        "colab_type": "text"
      },
      "source": [
        "<a href=\"https://colab.research.google.com/github/CreshUp/Programming-/blob/main/%D0%9F%D1%80%D0%B0%D0%BA%D1%82%D0%B8%D0%BA%D0%B0_0_9_0.ipynb\" target=\"_parent\"><img src=\"https://colab.research.google.com/assets/colab-badge.svg\" alt=\"Open In Colab\"/></a>"
      ]
    },
    {
      "cell_type": "markdown",
      "source": [
        "ФИО"
      ],
      "metadata": {
        "id": "8hJfL9b2l439"
      }
    },
    {
      "cell_type": "code",
      "source": [
        "Плескачёв Дмитрий Александрович"
      ],
      "metadata": {
        "id": "wRnqvYOkl6EX"
      },
      "execution_count": null,
      "outputs": []
    },
    {
      "cell_type": "markdown",
      "source": [
        "# Дисклеймер"
      ],
      "metadata": {
        "id": "weOtPwPQmgpD"
      }
    },
    {
      "cell_type": "markdown",
      "source": [
        "В данной практике вам необходимо применить все ваши знания по темам:\n",
        "\n",
        "- Функции\n",
        "- Словари\n",
        "- Списки\n",
        "- Множества\n",
        "- Условные конструкции\n",
        "- Запросы\n",
        "\n",
        "и все что было изучено на прошлых практических занятиях\n",
        "\n",
        "В каждом задании кратко описаны функции, которые необходимо реализовать, детали реализации вы должны продумать самостоятельно"
      ],
      "metadata": {
        "id": "LznB3uscmjDa"
      }
    },
    {
      "cell_type": "markdown",
      "source": [
        "# Задание 0"
      ],
      "metadata": {
        "id": "7nSJIqkTvC_C"
      }
    },
    {
      "cell_type": "markdown",
      "source": [
        "Создайте функцию по нахождению уникальных элементов из двух списков\n",
        "\n",
        "\n",
        "\n",
        "```\n",
        "a = [1, 2, 3, 4]\n",
        "b = [3, 4, 5, 6]\n",
        "```\n",
        "\n"
      ],
      "metadata": {
        "id": "exACjTiVvGUe"
      }
    },
    {
      "cell_type": "code",
      "source": [
        "a = [1, 2, 3, 4]\n",
        "b = [3, 4, 5, 6]\n",
        "an=[]\n",
        "bn=[]\n",
        "for i in a:\n",
        "  if i not in b and i not in an:\n",
        "    print(i)\n",
        "    an.append(i)\n",
        "for i in b:\n",
        "  if i not in a and i not in bn:\n",
        "    print(i)\n",
        "    bn.append(i)"
      ],
      "metadata": {
        "id": "dQheNSYd4nd2",
        "colab": {
          "base_uri": "https://localhost:8080/"
        },
        "outputId": "557a586d-1a3a-4c91-f6e5-06bd1749a7d1"
      },
      "execution_count": null,
      "outputs": [
        {
          "output_type": "stream",
          "name": "stdout",
          "text": [
            "1\n",
            "2\n",
            "5\n",
            "6\n"
          ]
        }
      ]
    },
    {
      "cell_type": "markdown",
      "source": [
        "# Задание 1"
      ],
      "metadata": {
        "id": "SVWNlBALpCNo"
      }
    },
    {
      "cell_type": "markdown",
      "source": [
        "Симулятор виртуального питомца\n",
        "\n",
        "Цель: создать виртуальный симулятор домашних животных, в котором пользователи смогут заводить питомцев и ухаживать за ними.\n",
        "\n",
        "Требования:\n",
        "\n",
        "- Функция для усыновления питомца (имя, тип, возраст).\n",
        "- Функция для того, чтобы покормить питомца, поиграть с ним или уложить его спать.\n",
        "- Функция для отображения состояния питомца (голод, радость, энергия)."
      ],
      "metadata": {
        "id": "RcKA-VEqpC7f"
      }
    },
    {
      "cell_type": "code",
      "source": [
        "import random\n",
        "\n",
        "\n",
        "def choice(pets,pet_stats,user_pet,user_pet_stat):\n",
        "  print('                \\/ Available pets \\/')\n",
        "  print('ID/Pet name/Difficulty/Health points/Happiness/Hunger/Age')\n",
        "  count=0\n",
        "  for i in pets:\n",
        "    print(count,':',i,':',pet_stats[i])\n",
        "    count+=1\n",
        "  while True:\n",
        "    response=input('Input corresponding ID: ')\n",
        "    print('')\n",
        "    if response=='EXIT':\n",
        "      return user_pet, user_pet_stat,1\n",
        "    try:\n",
        "      user_pet=pets[int(response)]\n",
        "      for i in range(4):\n",
        "        user_pet_stat[i]=pet_stats[user_pet][i+1]\n",
        "      return user_pet,user_pet_stat,0\n",
        "    except Exception:\n",
        "      print('Error 400')\n",
        "\n",
        "\n",
        "def time(months,user_pet_stats,items,exidents,user_pet,pet_stats):\n",
        "  months+=1\n",
        "  dif_user_pet_stats=[0,0,0,0]\n",
        "  dif_user_pet_stats[0]-=1\n",
        "  dif_user_pet_stats[1]-=15\n",
        "  dif_user_pet_stats[2]-=10\n",
        "  dif_user_pet_stats[3]=months//12\n",
        "  is_event=random.random()\n",
        "  if is_event>=0.85:\n",
        "    event=random.choice(list(exidents.keys()))\n",
        "    print(f'The {event} has happend')\n",
        "    dif_user_pet_stats[0]+=exidents[event][0]\n",
        "    dif_user_pet_stats[1]+=exidents[event][1]\n",
        "    dif_user_pet_stats[2]+=exidents[event][2]\n",
        "  else:\n",
        "    print('The NOTHING has happend')\n",
        "  print('')\n",
        "  print('What would you do about that?')\n",
        "  print('ID | NAME | HEALTH | HAPPINESS | HUNGER')\n",
        "  print(\"Your pet's stats diffs are\",dif_user_pet_stats)\n",
        "\n",
        "  count=0\n",
        "  for k,v in items.items():\n",
        "    print(count,':',k,':',v)\n",
        "    count+=1\n",
        "  while True:\n",
        "    response=input('Type corresponding ID: ')\n",
        "    print('')\n",
        "    if response=='EXIT':\n",
        "      return months, user_pet_stats, 1\n",
        "    try:\n",
        "      item=list(items.values())[int(response)]\n",
        "      break\n",
        "    except Exception:\n",
        "      print('Error 400')\n",
        "  user_pet_stats[0]+=item[0]+dif_user_pet_stats[0]\n",
        "  user_pet_stats[1]+=item[1]+dif_user_pet_stats[1]\n",
        "  user_pet_stats[2]+=item[2]+dif_user_pet_stats[2]\n",
        "  user_pet_stats[3]+=dif_user_pet_stats[3]\n",
        "  if months==12:\n",
        "    months=0\n",
        "  for i in range(3):\n",
        "    if user_pet_stats[i]>pet_stats[user_pet][i+1]:\n",
        "      user_pet_stats[i]=pet_stats[user_pet][i+1]\n",
        "  print(\"YOUR PETS STATS ARE\",user_pet_stats)\n",
        "  print('')\n",
        "  return months, user_pet_stats, 0\n",
        "\n",
        "\n",
        "pets=['Pikachu','Goku','Vadim']\n",
        "      # HEALTH | HAPPINESS | HUNGER | AGE\n",
        "pet_stats={'Pikachu': ['Normal',100,100,100,0],\n",
        "           'Goku': ['Easy',90,110,110,100],\n",
        "           'Vadim':['Hard',135,75,75,23]\n",
        "}\n",
        "items={'Burger':[1,5,30],\n",
        "       'Pet':[0,30,0],\n",
        "       'Bandage':[30,0,5],\n",
        "       'Cheat':[30,30,30]\n",
        "}\n",
        "exidents={'EXPLOSION':[-35,-20,0],\n",
        "          'Brick on your head':[-10,-10,0],\n",
        "          'HUNGER':[0,0,-25],\n",
        "}\n",
        "user_pet=[]\n",
        "user_pet_stats=[0,0,0,0]\n",
        "months=0\n",
        "closed=1\n",
        "while True:\n",
        "  if closed:\n",
        "   print('Welcome to pet simulator')\n",
        "   print('If you enter EXIT at any moment you will close it')\n",
        "   closed=0\n",
        "  if not user_pet:\n",
        "    user_pet,user_pet_stats,closed=choice(pets,pet_stats,user_pet,\n",
        "                                          user_pet_stats)\n",
        "  months,user_pet_stats,closed=time(months,user_pet_stats,items,\n",
        "                                    exidents,user_pet,pet_stats)\n",
        "\n",
        "\n",
        "\n"
      ],
      "metadata": {
        "id": "hE7mF-HXpJLO",
        "colab": {
          "base_uri": "https://localhost:8080/",
          "height": 1000
        },
        "outputId": "6341488b-da02-4385-ed34-046e813ebdc3"
      },
      "execution_count": null,
      "outputs": [
        {
          "metadata": {
            "tags": null
          },
          "name": "stdout",
          "output_type": "stream",
          "text": [
            "Welcome to pet simulator\n",
            "If you enter EXIT at any moment you will close it\n",
            "                \\/ Available pets \\/\n",
            "ID/Pet name/Difficulty/Health points/Happiness/Hunger/Age\n",
            "0 : Pikachu : ['Normal', 100, 100, 100, 0]\n",
            "1 : Goku : ['Easy', 90, 110, 110, 100]\n",
            "2 : Vadim : ['Hard', 135, 75, 75, 23]\n",
            "\n",
            "The NOTHING has happend\n",
            "\n",
            "What would you do about that?\n",
            "ID | NAME | HEALTH | HAPPINESS | HUNGER\n",
            "Your pet's stats diffs are [-1, -15, -10, 0]\n",
            "0 : Burger : [1, 5, 30]\n",
            "1 : Pet : [0, 30, 0]\n",
            "2 : Bandage : [30, 0, 5]\n",
            "3 : Cheat : [30, 30, 30]\n",
            "\n",
            "YOUR PETS STATS ARE [89, 110, 100, 100]\n",
            "\n",
            "The NOTHING has happend\n",
            "\n",
            "What would you do about that?\n",
            "ID | NAME | HEALTH | HAPPINESS | HUNGER\n",
            "Your pet's stats diffs are [-1, -15, -10, 0]\n",
            "0 : Burger : [1, 5, 30]\n",
            "1 : Pet : [0, 30, 0]\n",
            "2 : Bandage : [30, 0, 5]\n",
            "3 : Cheat : [30, 30, 30]\n",
            "\n",
            "YOUR PETS STATS ARE [90, 95, 95, 100]\n",
            "\n",
            "The NOTHING has happend\n",
            "\n",
            "What would you do about that?\n",
            "ID | NAME | HEALTH | HAPPINESS | HUNGER\n",
            "Your pet's stats diffs are [-1, -15, -10, 0]\n",
            "0 : Burger : [1, 5, 30]\n",
            "1 : Pet : [0, 30, 0]\n",
            "2 : Bandage : [30, 0, 5]\n",
            "3 : Cheat : [30, 30, 30]\n",
            "\n",
            "YOUR PETS STATS ARE [90, 85, 110, 100]\n",
            "\n",
            "The NOTHING has happend\n",
            "\n",
            "What would you do about that?\n",
            "ID | NAME | HEALTH | HAPPINESS | HUNGER\n",
            "Your pet's stats diffs are [-1, -15, -10, 0]\n",
            "0 : Burger : [1, 5, 30]\n",
            "1 : Pet : [0, 30, 0]\n",
            "2 : Bandage : [30, 0, 5]\n",
            "3 : Cheat : [30, 30, 30]\n",
            "\n",
            "YOUR PETS STATS ARE [90, 70, 105, 100]\n",
            "\n",
            "The NOTHING has happend\n",
            "\n",
            "What would you do about that?\n",
            "ID | NAME | HEALTH | HAPPINESS | HUNGER\n",
            "Your pet's stats diffs are [-1, -15, -10, 0]\n",
            "0 : Burger : [1, 5, 30]\n",
            "1 : Pet : [0, 30, 0]\n",
            "2 : Bandage : [30, 0, 5]\n",
            "3 : Cheat : [30, 30, 30]\n",
            "\n",
            "YOUR PETS STATS ARE [89, 85, 95, 100]\n",
            "\n",
            "The NOTHING has happend\n",
            "\n",
            "What would you do about that?\n",
            "ID | NAME | HEALTH | HAPPINESS | HUNGER\n",
            "Your pet's stats diffs are [-1, -15, -10, 0]\n",
            "0 : Burger : [1, 5, 30]\n",
            "1 : Pet : [0, 30, 0]\n",
            "2 : Bandage : [30, 0, 5]\n",
            "3 : Cheat : [30, 30, 30]\n",
            "\n",
            "YOUR PETS STATS ARE [88, 100, 85, 100]\n",
            "\n",
            "The NOTHING has happend\n",
            "\n",
            "What would you do about that?\n",
            "ID | NAME | HEALTH | HAPPINESS | HUNGER\n",
            "Your pet's stats diffs are [-1, -15, -10, 0]\n",
            "0 : Burger : [1, 5, 30]\n",
            "1 : Pet : [0, 30, 0]\n",
            "2 : Bandage : [30, 0, 5]\n",
            "3 : Cheat : [30, 30, 30]\n",
            "\n",
            "YOUR PETS STATS ARE [88, 90, 105, 100]\n",
            "\n",
            "The NOTHING has happend\n",
            "\n",
            "What would you do about that?\n",
            "ID | NAME | HEALTH | HAPPINESS | HUNGER\n",
            "Your pet's stats diffs are [-1, -15, -10, 0]\n",
            "0 : Burger : [1, 5, 30]\n",
            "1 : Pet : [0, 30, 0]\n",
            "2 : Bandage : [30, 0, 5]\n",
            "3 : Cheat : [30, 30, 30]\n",
            "\n",
            "YOUR PETS STATS ARE [87, 105, 95, 100]\n",
            "\n",
            "The NOTHING has happend\n",
            "\n",
            "What would you do about that?\n",
            "ID | NAME | HEALTH | HAPPINESS | HUNGER\n",
            "Your pet's stats diffs are [-1, -15, -10, 0]\n",
            "0 : Burger : [1, 5, 30]\n",
            "1 : Pet : [0, 30, 0]\n",
            "2 : Bandage : [30, 0, 5]\n",
            "3 : Cheat : [30, 30, 30]\n",
            "\n",
            "YOUR PETS STATS ARE [87, 95, 110, 100]\n",
            "\n",
            "The HUNGER has happend\n",
            "\n",
            "What would you do about that?\n",
            "ID | NAME | HEALTH | HAPPINESS | HUNGER\n",
            "Your pet's stats diffs are [-1, -15, -35, 0]\n",
            "0 : Burger : [1, 5, 30]\n",
            "1 : Pet : [0, 30, 0]\n",
            "2 : Bandage : [30, 0, 5]\n",
            "3 : Cheat : [30, 30, 30]\n",
            "\n",
            "YOUR PETS STATS ARE [90, 110, 105, 100]\n",
            "\n",
            "The NOTHING has happend\n",
            "\n",
            "What would you do about that?\n",
            "ID | NAME | HEALTH | HAPPINESS | HUNGER\n",
            "Your pet's stats diffs are [-1, -15, -10, 0]\n",
            "0 : Burger : [1, 5, 30]\n",
            "1 : Pet : [0, 30, 0]\n",
            "2 : Bandage : [30, 0, 5]\n",
            "3 : Cheat : [30, 30, 30]\n",
            "\n",
            "YOUR PETS STATS ARE [90, 110, 110, 100]\n",
            "\n",
            "The HUNGER has happend\n",
            "\n",
            "What would you do about that?\n",
            "ID | NAME | HEALTH | HAPPINESS | HUNGER\n",
            "Your pet's stats diffs are [-1, -15, -35, 1]\n",
            "0 : Burger : [1, 5, 30]\n",
            "1 : Pet : [0, 30, 0]\n",
            "2 : Bandage : [30, 0, 5]\n",
            "3 : Cheat : [30, 30, 30]\n",
            "\n",
            "YOUR PETS STATS ARE [90, 100, 105, 101]\n",
            "\n",
            "The NOTHING has happend\n",
            "\n",
            "What would you do about that?\n",
            "ID | NAME | HEALTH | HAPPINESS | HUNGER\n",
            "Your pet's stats diffs are [-1, -15, -10, 0]\n",
            "0 : Burger : [1, 5, 30]\n",
            "1 : Pet : [0, 30, 0]\n",
            "2 : Bandage : [30, 0, 5]\n",
            "3 : Cheat : [30, 30, 30]\n"
          ]
        },
        {
          "output_type": "error",
          "ename": "KeyboardInterrupt",
          "evalue": "Interrupted by user",
          "traceback": [
            "\u001b[0;31m---------------------------------------------------------------------------\u001b[0m",
            "\u001b[0;31mKeyboardInterrupt\u001b[0m                         Traceback (most recent call last)",
            "\u001b[0;32m<ipython-input-1-68194a7b192a>\u001b[0m in \u001b[0;36m<cell line: 93>\u001b[0;34m()\u001b[0m\n\u001b[1;32m     99\u001b[0m     user_pet,user_pet_stats,closed=choice(pets,pet_stats,user_pet,\n\u001b[1;32m    100\u001b[0m                                           user_pet_stats)\n\u001b[0;32m--> 101\u001b[0;31m   months,user_pet_stats,closed=time(months,user_pet_stats,items,\n\u001b[0m\u001b[1;32m    102\u001b[0m                                     exidents,user_pet,pet_stats)\n\u001b[1;32m    103\u001b[0m \u001b[0;34m\u001b[0m\u001b[0m\n",
            "\u001b[0;32m<ipython-input-1-68194a7b192a>\u001b[0m in \u001b[0;36mtime\u001b[0;34m(months, user_pet_stats, items, exidents, user_pet, pet_stats)\u001b[0m\n\u001b[1;32m     49\u001b[0m     \u001b[0mcount\u001b[0m\u001b[0;34m+=\u001b[0m\u001b[0;36m1\u001b[0m\u001b[0;34m\u001b[0m\u001b[0;34m\u001b[0m\u001b[0m\n\u001b[1;32m     50\u001b[0m   \u001b[0;32mwhile\u001b[0m \u001b[0;32mTrue\u001b[0m\u001b[0;34m:\u001b[0m\u001b[0;34m\u001b[0m\u001b[0;34m\u001b[0m\u001b[0m\n\u001b[0;32m---> 51\u001b[0;31m     \u001b[0mresponse\u001b[0m\u001b[0;34m=\u001b[0m\u001b[0minput\u001b[0m\u001b[0;34m(\u001b[0m\u001b[0;34m'Type corresponding ID: '\u001b[0m\u001b[0;34m)\u001b[0m\u001b[0;34m\u001b[0m\u001b[0;34m\u001b[0m\u001b[0m\n\u001b[0m\u001b[1;32m     52\u001b[0m     \u001b[0mprint\u001b[0m\u001b[0;34m(\u001b[0m\u001b[0;34m''\u001b[0m\u001b[0;34m)\u001b[0m\u001b[0;34m\u001b[0m\u001b[0;34m\u001b[0m\u001b[0m\n\u001b[1;32m     53\u001b[0m     \u001b[0;32mif\u001b[0m \u001b[0mresponse\u001b[0m\u001b[0;34m==\u001b[0m\u001b[0;34m'EXIT'\u001b[0m\u001b[0;34m:\u001b[0m\u001b[0;34m\u001b[0m\u001b[0;34m\u001b[0m\u001b[0m\n",
            "\u001b[0;32m/usr/local/lib/python3.10/dist-packages/ipykernel/kernelbase.py\u001b[0m in \u001b[0;36mraw_input\u001b[0;34m(self, prompt)\u001b[0m\n\u001b[1;32m    849\u001b[0m                 \u001b[0;34m\"raw_input was called, but this frontend does not support input requests.\"\u001b[0m\u001b[0;34m\u001b[0m\u001b[0;34m\u001b[0m\u001b[0m\n\u001b[1;32m    850\u001b[0m             )\n\u001b[0;32m--> 851\u001b[0;31m         return self._input_request(str(prompt),\n\u001b[0m\u001b[1;32m    852\u001b[0m             \u001b[0mself\u001b[0m\u001b[0;34m.\u001b[0m\u001b[0m_parent_ident\u001b[0m\u001b[0;34m,\u001b[0m\u001b[0;34m\u001b[0m\u001b[0;34m\u001b[0m\u001b[0m\n\u001b[1;32m    853\u001b[0m             \u001b[0mself\u001b[0m\u001b[0;34m.\u001b[0m\u001b[0m_parent_header\u001b[0m\u001b[0;34m,\u001b[0m\u001b[0;34m\u001b[0m\u001b[0;34m\u001b[0m\u001b[0m\n",
            "\u001b[0;32m/usr/local/lib/python3.10/dist-packages/ipykernel/kernelbase.py\u001b[0m in \u001b[0;36m_input_request\u001b[0;34m(self, prompt, ident, parent, password)\u001b[0m\n\u001b[1;32m    893\u001b[0m             \u001b[0;32mexcept\u001b[0m \u001b[0mKeyboardInterrupt\u001b[0m\u001b[0;34m:\u001b[0m\u001b[0;34m\u001b[0m\u001b[0;34m\u001b[0m\u001b[0m\n\u001b[1;32m    894\u001b[0m                 \u001b[0;31m# re-raise KeyboardInterrupt, to truncate traceback\u001b[0m\u001b[0;34m\u001b[0m\u001b[0;34m\u001b[0m\u001b[0m\n\u001b[0;32m--> 895\u001b[0;31m                 \u001b[0;32mraise\u001b[0m \u001b[0mKeyboardInterrupt\u001b[0m\u001b[0;34m(\u001b[0m\u001b[0;34m\"Interrupted by user\"\u001b[0m\u001b[0;34m)\u001b[0m \u001b[0;32mfrom\u001b[0m \u001b[0;32mNone\u001b[0m\u001b[0;34m\u001b[0m\u001b[0;34m\u001b[0m\u001b[0m\n\u001b[0m\u001b[1;32m    896\u001b[0m             \u001b[0;32mexcept\u001b[0m \u001b[0mException\u001b[0m \u001b[0;32mas\u001b[0m \u001b[0me\u001b[0m\u001b[0;34m:\u001b[0m\u001b[0;34m\u001b[0m\u001b[0;34m\u001b[0m\u001b[0m\n\u001b[1;32m    897\u001b[0m                 \u001b[0mself\u001b[0m\u001b[0;34m.\u001b[0m\u001b[0mlog\u001b[0m\u001b[0;34m.\u001b[0m\u001b[0mwarning\u001b[0m\u001b[0;34m(\u001b[0m\u001b[0;34m\"Invalid Message:\"\u001b[0m\u001b[0;34m,\u001b[0m \u001b[0mexc_info\u001b[0m\u001b[0;34m=\u001b[0m\u001b[0;32mTrue\u001b[0m\u001b[0;34m)\u001b[0m\u001b[0;34m\u001b[0m\u001b[0;34m\u001b[0m\u001b[0m\n",
            "\u001b[0;31mKeyboardInterrupt\u001b[0m: Interrupted by user"
          ]
        }
      ]
    },
    {
      "cell_type": "markdown",
      "source": [
        "# Задание 2"
      ],
      "metadata": {
        "id": "qZ7qFQnmssNd"
      }
    },
    {
      "cell_type": "markdown",
      "source": [
        "Рыцарь и дракон\n",
        "\n",
        "Цель: создать небольшую игру, в которой вам необходимо играть за рыцаря и сразиться с драконом\n",
        "\n",
        "Требования:\n",
        "\n",
        "- Создание персонажа (имя, информация о доспехах, оружии, урон, здоровье)\n",
        "- Управление персонажем и мини сюжет\n",
        "- Создание дракона (Имя, информация о здоровье и уроне)\n",
        "- Боевая система (нанесение и получение урона, урон должен быть случайным в заданном диапазоне)\n",
        "- Реализовать бой между драконом и рыцарем"
      ],
      "metadata": {
        "id": "UaccTe7ltNvg"
      }
    },
    {
      "cell_type": "code",
      "source": [],
      "metadata": {
        "id": "LCcxp5Q0srjY"
      },
      "execution_count": null,
      "outputs": []
    },
    {
      "cell_type": "markdown",
      "source": [
        "# Задание 3\n"
      ],
      "metadata": {
        "id": "N8oFiEXol3e2"
      }
    },
    {
      "cell_type": "markdown",
      "source": [
        "Цель - создать менеджера команды Pokémon, который позволит пользователям:\n",
        "\n",
        "- Добавлять покемонов в свою команду. (если такого покемона еще нет в команде)\n",
        "- Удалять покемонов из их команды.\n",
        "- Просматривать подробную информацию обо всех покемонах в команде.\n",
        "- Находить покемона по имени.\n",
        "- Устраивать тренировочный бой между двумя покемонами\n",
        "\n",
        "Для данной задачи используйте: https://pokeapi.co/\n"
      ],
      "metadata": {
        "id": "9p4WQG_Vl7wB"
      }
    },
    {
      "cell_type": "code",
      "source": [],
      "metadata": {
        "id": "NnGYp1MTqi5k"
      },
      "execution_count": null,
      "outputs": []
    }
  ]
}
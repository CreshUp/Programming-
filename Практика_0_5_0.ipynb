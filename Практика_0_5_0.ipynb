{
  "nbformat": 4,
  "nbformat_minor": 0,
  "metadata": {
    "colab": {
      "provenance": [],
      "include_colab_link": true
    },
    "kernelspec": {
      "name": "python3",
      "display_name": "Python 3"
    },
    "language_info": {
      "name": "python"
    }
  },
  "cells": [
    {
      "cell_type": "markdown",
      "metadata": {
        "id": "view-in-github",
        "colab_type": "text"
      },
      "source": [
        "<a href=\"https://colab.research.google.com/github/CreshUp/Programming-/blob/main/%D0%9F%D1%80%D0%B0%D0%BA%D1%82%D0%B8%D0%BA%D0%B0_0_5_0.ipynb\" target=\"_parent\"><img src=\"https://colab.research.google.com/assets/colab-badge.svg\" alt=\"Open In Colab\"/></a>"
      ]
    },
    {
      "cell_type": "markdown",
      "source": [
        "ФИО:"
      ],
      "metadata": {
        "id": "Bu5gIJfHNPHw"
      }
    },
    {
      "cell_type": "code",
      "execution_count": null,
      "metadata": {
        "id": "CbHI8c7cM9Eg"
      },
      "outputs": [],
      "source": [
        "Плескачёв Дмитрий Александрович"
      ]
    },
    {
      "cell_type": "markdown",
      "source": [
        "# **Задание 1**"
      ],
      "metadata": {
        "id": "VrNrBpmocGRd"
      }
    },
    {
      "cell_type": "markdown",
      "source": [
        "\n",
        "\n",
        "Дан словарь, содержащий имена и возраст людей, напишите программу выводящую возраст человека по имени\n",
        "\n",
        "Дано:\n",
        "\n",
        "```\n",
        "{\"Alice\": 25, \"Bob\": 30, \"Charlie\": 35}\n",
        "```\n",
        "\n",
        "Вввод:\n",
        "\n",
        "\n",
        "```\n",
        "Alice\n",
        "```\n",
        "\n",
        "Вывод:\n",
        "\n",
        "\n",
        "```\n",
        "Alice 25\n",
        "```\n"
      ],
      "metadata": {
        "id": "XhV1bnm1bR2h"
      }
    },
    {
      "cell_type": "code",
      "source": [
        "dictionary = {\"Alice\": 25, \"Bob\": 30, \"Charlie\": 35}\n",
        "name=input()\n",
        "print(name, dictionary[name])"
      ],
      "metadata": {
        "id": "PElJj6DvsgjD",
        "colab": {
          "base_uri": "https://localhost:8080/",
          "height": 327
        },
        "outputId": "50423358-3539-48f1-9b7b-21389d682f2e"
      },
      "execution_count": null,
      "outputs": [
        {
          "output_type": "error",
          "ename": "KeyboardInterrupt",
          "evalue": "Interrupted by user",
          "traceback": [
            "\u001b[0;31m---------------------------------------------------------------------------\u001b[0m",
            "\u001b[0;31mKeyboardInterrupt\u001b[0m                         Traceback (most recent call last)",
            "\u001b[0;32m<ipython-input-1-ccdec7a70db1>\u001b[0m in \u001b[0;36m<cell line: 2>\u001b[0;34m()\u001b[0m\n\u001b[1;32m      1\u001b[0m \u001b[0mdictionary\u001b[0m \u001b[0;34m=\u001b[0m \u001b[0;34m{\u001b[0m\u001b[0;34m\"Alice\"\u001b[0m\u001b[0;34m:\u001b[0m \u001b[0;36m25\u001b[0m\u001b[0;34m,\u001b[0m \u001b[0;34m\"Bob\"\u001b[0m\u001b[0;34m:\u001b[0m \u001b[0;36m30\u001b[0m\u001b[0;34m,\u001b[0m \u001b[0;34m\"Charlie\"\u001b[0m\u001b[0;34m:\u001b[0m \u001b[0;36m35\u001b[0m\u001b[0;34m}\u001b[0m\u001b[0;34m\u001b[0m\u001b[0;34m\u001b[0m\u001b[0m\n\u001b[0;32m----> 2\u001b[0;31m \u001b[0mname\u001b[0m\u001b[0;34m=\u001b[0m\u001b[0minput\u001b[0m\u001b[0;34m(\u001b[0m\u001b[0;34m)\u001b[0m\u001b[0;34m\u001b[0m\u001b[0;34m\u001b[0m\u001b[0m\n\u001b[0m\u001b[1;32m      3\u001b[0m \u001b[0mprint\u001b[0m\u001b[0;34m(\u001b[0m\u001b[0mname\u001b[0m\u001b[0;34m,\u001b[0m \u001b[0mdictionary\u001b[0m\u001b[0;34m[\u001b[0m\u001b[0mname\u001b[0m\u001b[0;34m]\u001b[0m\u001b[0;34m)\u001b[0m\u001b[0;34m\u001b[0m\u001b[0;34m\u001b[0m\u001b[0m\n",
            "\u001b[0;32m/usr/local/lib/python3.10/dist-packages/ipykernel/kernelbase.py\u001b[0m in \u001b[0;36mraw_input\u001b[0;34m(self, prompt)\u001b[0m\n\u001b[1;32m    849\u001b[0m                 \u001b[0;34m\"raw_input was called, but this frontend does not support input requests.\"\u001b[0m\u001b[0;34m\u001b[0m\u001b[0;34m\u001b[0m\u001b[0m\n\u001b[1;32m    850\u001b[0m             )\n\u001b[0;32m--> 851\u001b[0;31m         return self._input_request(str(prompt),\n\u001b[0m\u001b[1;32m    852\u001b[0m             \u001b[0mself\u001b[0m\u001b[0;34m.\u001b[0m\u001b[0m_parent_ident\u001b[0m\u001b[0;34m,\u001b[0m\u001b[0;34m\u001b[0m\u001b[0;34m\u001b[0m\u001b[0m\n\u001b[1;32m    853\u001b[0m             \u001b[0mself\u001b[0m\u001b[0;34m.\u001b[0m\u001b[0m_parent_header\u001b[0m\u001b[0;34m,\u001b[0m\u001b[0;34m\u001b[0m\u001b[0;34m\u001b[0m\u001b[0m\n",
            "\u001b[0;32m/usr/local/lib/python3.10/dist-packages/ipykernel/kernelbase.py\u001b[0m in \u001b[0;36m_input_request\u001b[0;34m(self, prompt, ident, parent, password)\u001b[0m\n\u001b[1;32m    893\u001b[0m             \u001b[0;32mexcept\u001b[0m \u001b[0mKeyboardInterrupt\u001b[0m\u001b[0;34m:\u001b[0m\u001b[0;34m\u001b[0m\u001b[0;34m\u001b[0m\u001b[0m\n\u001b[1;32m    894\u001b[0m                 \u001b[0;31m# re-raise KeyboardInterrupt, to truncate traceback\u001b[0m\u001b[0;34m\u001b[0m\u001b[0;34m\u001b[0m\u001b[0m\n\u001b[0;32m--> 895\u001b[0;31m                 \u001b[0;32mraise\u001b[0m \u001b[0mKeyboardInterrupt\u001b[0m\u001b[0;34m(\u001b[0m\u001b[0;34m\"Interrupted by user\"\u001b[0m\u001b[0;34m)\u001b[0m \u001b[0;32mfrom\u001b[0m \u001b[0;32mNone\u001b[0m\u001b[0;34m\u001b[0m\u001b[0;34m\u001b[0m\u001b[0m\n\u001b[0m\u001b[1;32m    896\u001b[0m             \u001b[0;32mexcept\u001b[0m \u001b[0mException\u001b[0m \u001b[0;32mas\u001b[0m \u001b[0me\u001b[0m\u001b[0;34m:\u001b[0m\u001b[0;34m\u001b[0m\u001b[0;34m\u001b[0m\u001b[0m\n\u001b[1;32m    897\u001b[0m                 \u001b[0mself\u001b[0m\u001b[0;34m.\u001b[0m\u001b[0mlog\u001b[0m\u001b[0;34m.\u001b[0m\u001b[0mwarning\u001b[0m\u001b[0;34m(\u001b[0m\u001b[0;34m\"Invalid Message:\"\u001b[0m\u001b[0;34m,\u001b[0m \u001b[0mexc_info\u001b[0m\u001b[0;34m=\u001b[0m\u001b[0;32mTrue\u001b[0m\u001b[0;34m)\u001b[0m\u001b[0;34m\u001b[0m\u001b[0;34m\u001b[0m\u001b[0m\n",
            "\u001b[0;31mKeyboardInterrupt\u001b[0m: Interrupted by user"
          ]
        }
      ]
    },
    {
      "cell_type": "markdown",
      "source": [
        "# **Задание 2**\n"
      ],
      "metadata": {
        "id": "lpjJz-_YcJ-t"
      }
    },
    {
      "cell_type": "markdown",
      "source": [
        "\n",
        "\n",
        "Дан список, состоящий из целых чисел, необходимо написать функцию считающую сумму всех положительных четных чисел списка\n",
        "\n",
        "Ввод:\n",
        "\n",
        "```\n",
        "1, 2, 3, 4, 5, 6, 7, 8, 9\n",
        "```\n",
        "\n",
        "Вывод:\n",
        "\n",
        "\n",
        "```\n",
        "20\n",
        "```\n",
        "\n",
        "***Запрещено:***\n",
        "\n",
        "*   Использование готовых функций для суммирования чисел\n"
      ],
      "metadata": {
        "id": "tMEsAB4rUiWW"
      }
    },
    {
      "cell_type": "code",
      "source": [
        "numbers={'even':0,'noeven':0,'underzero':0}\n",
        "nums=map(int,input().split(', '))\n",
        "for i in nums:\n",
        "  if i < 1:\n",
        "    numbers['underzero']=numbers[\"underzero\"]+i\n",
        "  elif i%2==0:\n",
        "    numbers['even']=numbers[\"even\"]+i\n",
        "  elif i%2!=0:\n",
        "    numbers[\"noeven\"]=numbers[\"noeven\"]+i\n",
        "print(numbers[\"even\"])"
      ],
      "metadata": {
        "id": "wDNUFLeqNQS_",
        "colab": {
          "base_uri": "https://localhost:8080/"
        },
        "outputId": "0f7f36b8-145f-4b11-fa8e-ca5ca3ffef5a"
      },
      "execution_count": null,
      "outputs": [
        {
          "output_type": "stream",
          "name": "stdout",
          "text": [
            "1, 2, 3, 4, 5, 6, 7, 8, 9\n",
            "20\n"
          ]
        }
      ]
    },
    {
      "cell_type": "markdown",
      "source": [
        "# **Задание 3**"
      ],
      "metadata": {
        "id": "WT_v-vz1dUZJ"
      }
    },
    {
      "cell_type": "markdown",
      "source": [
        "Дан словарь, содержащий название фрукта и его цвет, выведите список всех желтых фруктов\n",
        "\n",
        "\n",
        "Дано:\n",
        "\n",
        "```\n",
        "fruits_and_colors = {\n",
        "    \"apple\": \"red\",\n",
        "    \"banana\": \"yellow\",\n",
        "    \"mango\": \"yellow\",\n",
        "    \"orange\": \"orange\",\n",
        "    \"lemon\": \"yellow\",\n",
        "    \"grape\": \"purple\"\n",
        "}\n",
        "```\n",
        "\n",
        "Вывод:\n",
        "\n",
        "\n",
        "```\n",
        "Yellow fruits:\n",
        "banana\n",
        "lemon\n",
        "mango\n",
        "```\n",
        "\n"
      ],
      "metadata": {
        "id": "ZI5Xeh2DdXgF"
      }
    },
    {
      "cell_type": "code",
      "source": [
        "fruits_and_colors = {\n",
        "    \"apple\": \"red\",\n",
        "    \"banana\": \"yellow\",\n",
        "    \"mango\": \"yellow\",\n",
        "    \"orange\": \"orange\",\n",
        "    \"lemon\": \"yellow\",\n",
        "    \"grape\": \"purple\"\n",
        "}\n",
        "print('Yellow fruits:')\n",
        "for i,j in fruits_and_colors.items():\n",
        "  if j=='yellow':\n",
        "    print(i)"
      ],
      "metadata": {
        "id": "aNzFTkhKdkTG",
        "colab": {
          "base_uri": "https://localhost:8080/"
        },
        "outputId": "2f371752-08de-4fb6-ddce-d11a564d02aa"
      },
      "execution_count": null,
      "outputs": [
        {
          "output_type": "stream",
          "name": "stdout",
          "text": [
            "Yellow fruits:\n",
            "banana\n",
            "mango\n",
            "lemon\n"
          ]
        }
      ]
    },
    {
      "cell_type": "markdown",
      "source": [
        "# **Задание 4**\n"
      ],
      "metadata": {
        "id": "iHtMGt2icM7w"
      }
    },
    {
      "cell_type": "markdown",
      "source": [
        "\n",
        "\n",
        "Дан словарь, необходимо написать функцию меняющую ключ и значение местами\n",
        "\n",
        "Дано:\n",
        "\n",
        "\n",
        "```\n",
        "{\"a\": 1, \"b\": 2, \"c\": 3}\n",
        "```\n",
        "\n",
        "Вывод:\n",
        "\n",
        "```\n",
        "{1: 'a', 2: 'b', 3: 'c'}\n",
        "```\n",
        "\n"
      ],
      "metadata": {
        "id": "rS3THsnBQ_EB"
      }
    },
    {
      "cell_type": "code",
      "source": [
        "def replce_items(dictionary):\n",
        "  new_items={}\n",
        "  for i,j in dictionary.items():\n",
        "    new_items[j]=i\n",
        "  return new_items\n",
        "\n",
        "\n",
        "some_dict={\"a\": 1, \"b\": 2, \"c\": 3}\n",
        "new_dict=replce_items(some_dict)\n",
        "print(new_dict)"
      ],
      "metadata": {
        "id": "MNRusyLDcQ59",
        "colab": {
          "base_uri": "https://localhost:8080/"
        },
        "outputId": "820a2e00-ab0f-4e05-e1b8-ef6224150a91"
      },
      "execution_count": null,
      "outputs": [
        {
          "output_type": "stream",
          "name": "stdout",
          "text": [
            "{1: 'a', 2: 'b', 3: 'c'}\n"
          ]
        }
      ]
    },
    {
      "cell_type": "markdown",
      "source": [
        "# **Задание 5**"
      ],
      "metadata": {
        "id": "x6ff5nd0cUxD"
      }
    },
    {
      "cell_type": "markdown",
      "source": [
        "Дан список слов, неограниченной длинны, сформируйте словарь, где в качестве ключа будет слово, а в качестве значения количество слов\n",
        "\n",
        "**Критерии**\n",
        "\n",
        "\n",
        "*   Словарь необходимо отсортировать по убыванию количества элементов в списке.\n",
        "*   Подсчет элементов должен быть реализован в отдельной функции\n",
        "*   Сортировка пары `ключ:значение` должна быть реализована также в виде отдельной функции\n",
        "\n",
        "\n",
        "\n",
        "\n",
        "Дано:\n",
        "```\n",
        "['apple','banana','orange','apple','apple','banana']\n",
        "```\n",
        "\n",
        "\n",
        "Вывод:\n",
        "```\n",
        "{'apple':3, 'banana': 2, 'orange': 1}\n",
        "```\n",
        "\n",
        "***Запрещено:***\n",
        "\n",
        "*   Использование готовых функций для сортировки\n",
        "*   Использование готовых функций для подсчета элементов\n",
        "\n"
      ],
      "metadata": {
        "id": "ypQNHOG4NQz3"
      }
    },
    {
      "cell_type": "code",
      "source": [
        "def count_words(where,what):\n",
        "  count=0\n",
        "  for word in where:\n",
        "    if what == word:\n",
        "      count+=1\n",
        "  return count\n",
        "\n",
        "def maxim(dicti):\n",
        "  m=max(dicti.values())\n",
        "  for i,j in dicti.items():\n",
        "    if j==m:\n",
        "      return i,dicti.pop(i)\n",
        "\n",
        "\n",
        "words=['apple','banana','orange','apple','apple','banana','banana','banana','banana','banana','granade','granade','granade','granade','granade','granade','granade','granade','granade','granade']\n",
        "set_words=[]\n",
        "fruits_count={}\n",
        "\n",
        "for word in words:\n",
        "  if word not in set_words:\n",
        "    set_words.append(word)\n",
        "\n",
        "range_fin=len(set_words)\n",
        "\n",
        "for i in range(len(set_words)):\n",
        "  word=set_words.pop()\n",
        "  fruits_count[word]=count_words(words,word)\n",
        "\n",
        "just_print_it={}\n",
        "\n",
        "for i in range(range_fin):\n",
        "  fruit,coun=maxim(fruits_count)\n",
        "  just_print_it[fruit]=coun\n",
        "\n",
        "print(just_print_it)\n",
        "print('усё')"
      ],
      "metadata": {
        "id": "J10PjdVQUbyq",
        "colab": {
          "base_uri": "https://localhost:8080/"
        },
        "outputId": "a8440096-aa73-4656-bef5-85c72a1e0d8d"
      },
      "execution_count": null,
      "outputs": [
        {
          "output_type": "stream",
          "name": "stdout",
          "text": [
            "{'granade': 10, 'banana': 6, 'apple': 3, 'orange': 1}\n",
            "усё\n"
          ]
        }
      ]
    },
    {
      "cell_type": "markdown",
      "source": [
        "# **Задание 6**"
      ],
      "metadata": {
        "id": "d7fDUr2WcY_G"
      }
    },
    {
      "cell_type": "markdown",
      "source": [
        "Дан словарь, содержащий информацию о людях, необходимо:\n",
        "\n",
        "\n",
        "\n",
        "*   Вывести всех людей старше 30 лет\n",
        "*   Вывести список городов и количество людей из словаря проживающих в них\n",
        "*   Вывести список профессий и список людей для каждой профессии\n",
        "\n",
        "**Критерии**\n",
        "\n",
        "Каждый из пунктов необходимо реализовать в виде функции\n",
        "\n"
      ],
      "metadata": {
        "id": "m11qdVhSWBi7"
      }
    },
    {
      "cell_type": "code",
      "source": [
        "people_info = {\n",
        "    \"Alice\": {\"age\": 25, \"city\": \"New York\", \"occupation\": \"Engineer\"},\n",
        "    \"Bob\": {\"age\": 30, \"city\": \"Los Angeles\", \"occupation\": \"Designer\"},\n",
        "    \"Charlie\": {\"age\": 35, \"city\": \"Chicago\", \"occupation\": \"Teacher\"},\n",
        "    \"Diana\": {\"age\": 28, \"city\": \"Miami\", \"occupation\": \"Doctor\"},\n",
        "    \"Ethan\": {\"age\": 40, \"city\": \"Seattle\", \"occupation\": \"Chef\"},\n",
        "    \"Frank\": {\"age\": 32, \"city\": \"Atlanta\", \"occupation\": \"Lawyer\"},\n",
        "    \"Gabriella\": {\"age\": 29, \"city\": \"San Francisco\", \"occupation\": \"Software Engineer\"},\n",
        "    \"Harrison\": {\"age\": 38, \"city\": \"Denver\", \"occupation\": \"Architect\"},\n",
        "    \"Isabella\": {\"age\": 26, \"city\": \"Washington D.C.\", \"occupation\": \"Journalist\"},\n",
        "    \"Julian\": {\"age\": 42, \"city\": \"Miami\", \"occupation\": \"Musician\"},\n",
        "    \"Kate\": {\"age\": 31, \"city\": \"Philadelphia\", \"occupation\": \"Nurse\"},\n",
        "    \"Lucas\": {\"age\": 36, \"city\": \"Nashville\", \"occupation\": \"Businessman\"},\n",
        "    \"Mia\": {\"age\": 27, \"city\": \"Atlanta\", \"occupation\": \"Artist\"},\n",
        "    \"Natalie\": {\"age\": 39, \"city\": \"Portland\", \"occupation\": \"Writer\"},\n",
        "    \"Oliver\": {\"age\": 44, \"city\": \"Minneapolis\", \"occupation\": \"Professor\"},\n",
        "    \"Penelope\": {\"age\": 33, \"city\": \"San Diego\", \"occupation\": \"Marketing Manager\"},\n",
        "    \"Quincy\": {\"age\": 41, \"city\": \"Nashville\", \"occupation\": \"Singer\"},\n",
        "    \"Rachel\": {\"age\": 34, \"city\": \"Cleveland\", \"occupation\": \"Teacher\"},\n",
        "    \"Sophia\": {\"age\": 29, \"city\": \"Nashville\", \"occupation\": \"Engineer\"},\n",
        "    \"Tessa\": {\"age\": 37, \"city\": \"Miami\", \"occupation\": \"Lawyer\"}\n",
        "}"
      ],
      "metadata": {
        "id": "lSNtB39OWtFl"
      },
      "execution_count": null,
      "outputs": []
    },
    {
      "cell_type": "code",
      "source": [
        "def print_age(people_info,age):\n",
        "  for i,j in people_info.items():\n",
        "    if j['age']==age:\n",
        "      print(i,j['age'])\n",
        "\n",
        "def print_cities(people_info):\n",
        "  cities={}\n",
        "  for i in people_info.values():\n",
        "    cities[i['city']]=0\n",
        "  for i in people_info.values():\n",
        "    cities[i['city']]+=1\n",
        "  for i,j in cities.items():\n",
        "    print(i,':', j,'people')\n",
        "\n",
        "def print_occ(people_info):\n",
        "  occupation={}\n",
        "  for names,j in people_info.items():\n",
        "    occupation[j['occupation']]=''\n",
        "  for names,j in people_info.items():\n",
        "    n=names+' '\n",
        "    occupation[j['occupation']]+=n\n",
        "  for i,j in occupation.items():\n",
        "    print(i,'!',j)\n",
        "\n",
        "\n",
        "\n",
        "\n",
        "people_info = {\n",
        "    \"Alice\": {\"age\": 25, \"city\": \"New York\", \"occupation\": \"Engineer\"},\n",
        "    \"Bob\": {\"age\": 30, \"city\": \"Los Angeles\", \"occupation\": \"Designer\"},\n",
        "    \"Charlie\": {\"age\": 35, \"city\": \"Chicago\", \"occupation\": \"Teacher\"},\n",
        "    \"Diana\": {\"age\": 28, \"city\": \"Miami\", \"occupation\": \"Doctor\"},\n",
        "    \"Ethan\": {\"age\": 40, \"city\": \"Seattle\", \"occupation\": \"Chef\"},\n",
        "    \"Frank\": {\"age\": 32, \"city\": \"Atlanta\", \"occupation\": \"Lawyer\"},\n",
        "    \"Gabriella\": {\"age\": 29, \"city\": \"San Francisco\", \"occupation\": \"Software Engineer\"},\n",
        "    \"Harrison\": {\"age\": 38, \"city\": \"Denver\", \"occupation\": \"Architect\"},\n",
        "    \"Isabella\": {\"age\": 26, \"city\": \"Washington D.C.\", \"occupation\": \"Journalist\"},\n",
        "    \"Julian\": {\"age\": 42, \"city\": \"Miami\", \"occupation\": \"Musician\"},\n",
        "    \"Kate\": {\"age\": 31, \"city\": \"Philadelphia\", \"occupation\": \"Nurse\"},\n",
        "    \"Lucas\": {\"age\": 36, \"city\": \"Nashville\", \"occupation\": \"Businessman\"},\n",
        "    \"Mia\": {\"age\": 27, \"city\": \"Atlanta\", \"occupation\": \"Artist\"},\n",
        "    \"Natalie\": {\"age\": 39, \"city\": \"Portland\", \"occupation\": \"Writer\"},\n",
        "    \"Oliver\": {\"age\": 44, \"city\": \"Minneapolis\", \"occupation\": \"Professor\"},\n",
        "    \"Penelope\": {\"age\": 33, \"city\": \"San Diego\", \"occupation\": \"Marketing Manager\"},\n",
        "    \"Quincy\": {\"age\": 41, \"city\": \"Nashville\", \"occupation\": \"Singer\"},\n",
        "    \"Rachel\": {\"age\": 34, \"city\": \"Cleveland\", \"occupation\": \"Teacher\"},\n",
        "    \"Sophia\": {\"age\": 29, \"city\": \"Nashville\", \"occupation\": \"Engineer\"},\n",
        "    \"Tessa\": {\"age\": 37, \"city\": \"Miami\", \"occupation\": \"Lawyer\"}\n",
        "}\n",
        "print(print_occ(people_info))\n",
        "print(print_cities(people_info))\n",
        "print(print_age(people_info,29))\n"
      ],
      "metadata": {
        "id": "qcLO5eQwXkNK",
        "colab": {
          "base_uri": "https://localhost:8080/"
        },
        "outputId": "e2f7fb3a-5385-410d-9b97-00060ab5c8e1"
      },
      "execution_count": null,
      "outputs": [
        {
          "output_type": "stream",
          "name": "stdout",
          "text": [
            "Engineer ! Alice Sophia \n",
            "Designer ! Bob \n",
            "Teacher ! Charlie Rachel \n",
            "Doctor ! Diana \n",
            "Chef ! Ethan \n",
            "Lawyer ! Frank Tessa \n",
            "Software Engineer ! Gabriella \n",
            "Architect ! Harrison \n",
            "Journalist ! Isabella \n",
            "Musician ! Julian \n",
            "Nurse ! Kate \n",
            "Businessman ! Lucas \n",
            "Artist ! Mia \n",
            "Writer ! Natalie \n",
            "Professor ! Oliver \n",
            "Marketing Manager ! Penelope \n",
            "Singer ! Quincy \n",
            "None\n",
            "New York : 1 people\n",
            "Los Angeles : 1 people\n",
            "Chicago : 1 people\n",
            "Miami : 3 people\n",
            "Seattle : 1 people\n",
            "Atlanta : 2 people\n",
            "San Francisco : 1 people\n",
            "Denver : 1 people\n",
            "Washington D.C. : 1 people\n",
            "Philadelphia : 1 people\n",
            "Nashville : 3 people\n",
            "Portland : 1 people\n",
            "Minneapolis : 1 people\n",
            "San Diego : 1 people\n",
            "Cleveland : 1 people\n",
            "None\n",
            "Gabriella 29\n",
            "Sophia 29\n",
            "None\n"
          ]
        }
      ]
    },
    {
      "cell_type": "markdown",
      "source": [
        "# **Задание 7**"
      ],
      "metadata": {
        "id": "27IuB2YScezw"
      }
    },
    {
      "cell_type": "markdown",
      "source": [
        "Задание: Разработка системы отзывов о предметах\n",
        "\n",
        "Описание: Создать программу на Python для хранения и управления отзывами о предметах учебного курса. Программа должна позволять пользователям добавлять, просматривать и удалять отзывы, а также вычислять средний балл по заданному предмету.\n",
        "\n",
        "**Функционал:**\n",
        "\n",
        "*   Добавление отзыва и оценки:\n",
        "   *   Пользователь может ввести название предмета, оценку (от 1 до 5) и текст отзыва.\n",
        "   *   Отзывы должны храниться в структуре данных (например, словаре), где ключом будет название предмета, а значением - список отзывов (каждый отзыв может хранить оценку и комментарий).\n",
        "*   Просмотр отзывов и оценок:\n",
        "   *   Пользователь может запросить отзывы для указанного предмета.\n",
        "   *   Если для указанного предмета есть отзывы, программа должна отобразить список всех отзывов и соответствующих оценок.\n",
        "*   Удаление отзыва:\n",
        "   *   Пользователь может удалить отзыв по индексу. Необходимо заранее уведомить пользователя о том, какие отзывы доступны для удаления.\n",
        "   *   Программа должна обработать ситуацию, когда индекс введен неправильно.\n",
        "*   Вычисление среднего балла по предмету:\n",
        "   *   Пользователь может ввести название предмета, и программа должна вычислить и вывести средний балл по всем отзывам для этого предмета.\n",
        "   *   Если отзывов нет, программа должна сообщить об этом.\n",
        "\n",
        "\n",
        "**Критерии:**\n",
        "\n",
        "*   Код должен быть оформлен в виде функций\n",
        "*   Необходимо обрабатывать неправильный ввод пользователя\n",
        "*   Должны быть комментарии к функциям\n",
        "*   Присутсвует весь дополнительный функционал\n",
        "\n",
        "\n",
        "\n",
        "**Опционально:**\n",
        "\n",
        "Предлагаю вам добавить свои критерии оценки или вопросы, на которые должен ответить студент, чтобы оценить пару\n",
        "\n",
        "\n"
      ],
      "metadata": {
        "id": "Fd95-S9cYhct"
      }
    },
    {
      "cell_type": "code",
      "source": [
        "def review(classes,grade_check,class_check):\n",
        "  while True:\n",
        "      clas=input('Your class is ')\n",
        "      if clas not in class_check:\n",
        "        print('incorrect, try again')\n",
        "      else:\n",
        "        break\n",
        "  while True:\n",
        "      grade=input('Your grade from 1 to 5 is ')\n",
        "      if grade not in grade_check:\n",
        "        print('incorrect, try again')\n",
        "      else:\n",
        "        break\n",
        "  ans=input('Your review ')\n",
        "  add=[int(grade),ans]\n",
        "  return classes[clas].append(add)\n",
        "\n",
        "def watch(classes,class_check):\n",
        "  while True:\n",
        "      clas=input('Your class is ')\n",
        "      if clas not in class_check:\n",
        "        print('incorrect, try again')\n",
        "      else:\n",
        "        break\n",
        "  for i in classes[clas]:\n",
        "    print(*i)\n",
        "  print('from',clas)\n",
        "\n",
        "def delete(classes,class_check):\n",
        "  while True:\n",
        "      clas=input('Your class is ')\n",
        "      if clas not in class_check:\n",
        "        print('incorrect, try again')\n",
        "      else:\n",
        "        break\n",
        "  count=-1\n",
        "  for i in classes[clas]:\n",
        "    count+=1\n",
        "    print('Number',count,':',*i)\n",
        "  while True:\n",
        "    print('from',clas,'What are you want to delete?',end=' ')\n",
        "    num=int(input())\n",
        "\n",
        "    if num<0 or num > count:\n",
        "      print('where is no such review')\n",
        "    else:\n",
        "      break\n",
        "  if num>0:\n",
        "    classes[clas].pop(num)\n",
        "    return classes\n",
        "  elif num==0:\n",
        "    return classes\n",
        "\n",
        "def average_grade(classes,class_check):\n",
        "  while True:\n",
        "      clas=input('Your class is ')\n",
        "      if clas not in class_check:\n",
        "        print('incorrect, try again')\n",
        "      else:\n",
        "        break\n",
        "  summ=0\n",
        "  for i in range(1,len(classes[clas])):\n",
        "    summ+=classes[clas][i][0]\n",
        "  return summ/(len(classes[clas])-1)\n",
        "\n",
        "\n",
        "\n",
        "classes={'Math':[['Cancel'],[5,'yj'],[4,'thytj']],'Inf':[['Cancel'],[3,'qwerty'],[1,'asdfgh']],'Rus':[['Cancel'],[5,'1493'],[5,'25'],[4,'Abc']]}\n",
        "grade_check='12345'\n",
        "class_check=['Math','Inf','Rus']\n",
        "while True:\n",
        "  # 1 добавить отзыв\n",
        "  # 2 просмотр отзывов и оценок\n",
        "  # 3 удалить отзыв\n",
        "  # 4 сред балл по предмету\n",
        "  print('# 1 добавить отзыв')\n",
        "  print('# 2 просмотр отзывов и оценок')\n",
        "  print('# 3 удалить отзыв')\n",
        "  print('# 4 сред балл по предмету')\n",
        "  go=input('What am i gonna do ')\n",
        "  if go=='1':\n",
        "    classes=review(classes,grade_check,class_check)\n",
        "  elif go=='2':\n",
        "    watch(classes,class_check)\n",
        "  elif go=='3':\n",
        "    classes=delete(classes,class_check)\n",
        "  elif go=='4':\n",
        "    print(average_grade(classes,class_check))\n",
        "\n",
        "\n",
        "\n"
      ],
      "metadata": {
        "id": "kzucJrCUa0o7",
        "colab": {
          "base_uri": "https://localhost:8080/",
          "height": 415
        },
        "outputId": "150306ce-f1fe-4b9b-d824-26acdec17409"
      },
      "execution_count": null,
      "outputs": [
        {
          "output_type": "stream",
          "name": "stdout",
          "text": [
            "What am i gonna do 4\n",
            "Your class is Math\n",
            "4.5\n"
          ]
        },
        {
          "output_type": "error",
          "ename": "KeyboardInterrupt",
          "evalue": "Interrupted by user",
          "traceback": [
            "\u001b[0;31m---------------------------------------------------------------------------\u001b[0m",
            "\u001b[0;31mKeyboardInterrupt\u001b[0m                         Traceback (most recent call last)",
            "\u001b[0;32m<ipython-input-15-fc101206e373>\u001b[0m in \u001b[0;36m<cell line: 71>\u001b[0;34m()\u001b[0m\n\u001b[1;32m     74\u001b[0m   \u001b[0;31m# 3 удалить отзыв\u001b[0m\u001b[0;34m\u001b[0m\u001b[0;34m\u001b[0m\u001b[0m\n\u001b[1;32m     75\u001b[0m   \u001b[0;31m# 4 сред балл по предмету\u001b[0m\u001b[0;34m\u001b[0m\u001b[0;34m\u001b[0m\u001b[0m\n\u001b[0;32m---> 76\u001b[0;31m   \u001b[0mgo\u001b[0m\u001b[0;34m=\u001b[0m\u001b[0minput\u001b[0m\u001b[0;34m(\u001b[0m\u001b[0;34m'What am i gonna do '\u001b[0m\u001b[0;34m)\u001b[0m\u001b[0;34m\u001b[0m\u001b[0;34m\u001b[0m\u001b[0m\n\u001b[0m\u001b[1;32m     77\u001b[0m   \u001b[0;32mif\u001b[0m \u001b[0mgo\u001b[0m\u001b[0;34m==\u001b[0m\u001b[0;34m'1'\u001b[0m\u001b[0;34m:\u001b[0m\u001b[0;34m\u001b[0m\u001b[0;34m\u001b[0m\u001b[0m\n\u001b[1;32m     78\u001b[0m     \u001b[0mclasses\u001b[0m\u001b[0;34m=\u001b[0m\u001b[0mreview\u001b[0m\u001b[0;34m(\u001b[0m\u001b[0mclasses\u001b[0m\u001b[0;34m,\u001b[0m\u001b[0mgrade_check\u001b[0m\u001b[0;34m,\u001b[0m\u001b[0mclass_check\u001b[0m\u001b[0;34m)\u001b[0m\u001b[0;34m\u001b[0m\u001b[0;34m\u001b[0m\u001b[0m\n",
            "\u001b[0;32m/usr/local/lib/python3.10/dist-packages/ipykernel/kernelbase.py\u001b[0m in \u001b[0;36mraw_input\u001b[0;34m(self, prompt)\u001b[0m\n\u001b[1;32m    849\u001b[0m                 \u001b[0;34m\"raw_input was called, but this frontend does not support input requests.\"\u001b[0m\u001b[0;34m\u001b[0m\u001b[0;34m\u001b[0m\u001b[0m\n\u001b[1;32m    850\u001b[0m             )\n\u001b[0;32m--> 851\u001b[0;31m         return self._input_request(str(prompt),\n\u001b[0m\u001b[1;32m    852\u001b[0m             \u001b[0mself\u001b[0m\u001b[0;34m.\u001b[0m\u001b[0m_parent_ident\u001b[0m\u001b[0;34m,\u001b[0m\u001b[0;34m\u001b[0m\u001b[0;34m\u001b[0m\u001b[0m\n\u001b[1;32m    853\u001b[0m             \u001b[0mself\u001b[0m\u001b[0;34m.\u001b[0m\u001b[0m_parent_header\u001b[0m\u001b[0;34m,\u001b[0m\u001b[0;34m\u001b[0m\u001b[0;34m\u001b[0m\u001b[0m\n",
            "\u001b[0;32m/usr/local/lib/python3.10/dist-packages/ipykernel/kernelbase.py\u001b[0m in \u001b[0;36m_input_request\u001b[0;34m(self, prompt, ident, parent, password)\u001b[0m\n\u001b[1;32m    893\u001b[0m             \u001b[0;32mexcept\u001b[0m \u001b[0mKeyboardInterrupt\u001b[0m\u001b[0;34m:\u001b[0m\u001b[0;34m\u001b[0m\u001b[0;34m\u001b[0m\u001b[0m\n\u001b[1;32m    894\u001b[0m                 \u001b[0;31m# re-raise KeyboardInterrupt, to truncate traceback\u001b[0m\u001b[0;34m\u001b[0m\u001b[0;34m\u001b[0m\u001b[0m\n\u001b[0;32m--> 895\u001b[0;31m                 \u001b[0;32mraise\u001b[0m \u001b[0mKeyboardInterrupt\u001b[0m\u001b[0;34m(\u001b[0m\u001b[0;34m\"Interrupted by user\"\u001b[0m\u001b[0;34m)\u001b[0m \u001b[0;32mfrom\u001b[0m \u001b[0;32mNone\u001b[0m\u001b[0;34m\u001b[0m\u001b[0;34m\u001b[0m\u001b[0m\n\u001b[0m\u001b[1;32m    896\u001b[0m             \u001b[0;32mexcept\u001b[0m \u001b[0mException\u001b[0m \u001b[0;32mas\u001b[0m \u001b[0me\u001b[0m\u001b[0;34m:\u001b[0m\u001b[0;34m\u001b[0m\u001b[0;34m\u001b[0m\u001b[0m\n\u001b[1;32m    897\u001b[0m                 \u001b[0mself\u001b[0m\u001b[0;34m.\u001b[0m\u001b[0mlog\u001b[0m\u001b[0;34m.\u001b[0m\u001b[0mwarning\u001b[0m\u001b[0;34m(\u001b[0m\u001b[0;34m\"Invalid Message:\"\u001b[0m\u001b[0;34m,\u001b[0m \u001b[0mexc_info\u001b[0m\u001b[0;34m=\u001b[0m\u001b[0;32mTrue\u001b[0m\u001b[0;34m)\u001b[0m\u001b[0;34m\u001b[0m\u001b[0;34m\u001b[0m\u001b[0m\n",
            "\u001b[0;31mKeyboardInterrupt\u001b[0m: Interrupted by user"
          ]
        }
      ]
    }
  ]
}